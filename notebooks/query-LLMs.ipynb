{
 "cells": [
  {
   "cell_type": "markdown",
   "metadata": {},
   "source": [
    "## Imports"
   ]
  },
  {
   "cell_type": "code",
   "execution_count": null,
   "metadata": {},
   "outputs": [],
   "source": [
    "import aisuite as ai"
   ]
  },
  {
   "cell_type": "code",
   "execution_count": 2,
   "metadata": {},
   "outputs": [],
   "source": [
    "client = ai.Client()\n",
    "client.configure({\n",
    "  \"ollama\" : {\n",
    "    \"timeout\": 600,\n",
    "  }\n",
    "})"
   ]
  },
  {
   "cell_type": "markdown",
   "metadata": {},
   "source": [
    "## Test `aisuite` with dummy prompts"
   ]
  },
  {
   "cell_type": "code",
   "execution_count": 3,
   "metadata": {},
   "outputs": [],
   "source": [
    "messages = [\n",
    "    {\"role\": \"system\", \"content\": \"Respond in Pirate English. Always try to include the phrase - No rum No fun.\"},\n",
    "    {\"role\": \"user\", \"content\": \"Tell me a joke about Captain Jack Sparrow\"},\n",
    "]"
   ]
  },
  {
   "cell_type": "code",
   "execution_count": 24,
   "metadata": {},
   "outputs": [
    {
     "name": "stdout",
     "output_type": "stream",
     "text": [
      "NAME               ID              SIZE      MODIFIED          \n",
      "phi4:latest        ac896e5b8b34    9.1 GB    55 seconds ago       \n",
      "gemma2:9b          ff02c3702f32    5.4 GB    41 minutes ago       \n",
      "llama3.2:latest    a80c4f17acd5    2.0 GB    About an hour ago    \n",
      "deepseek-r1:8b     28f8fd6cdc67    4.9 GB    2 hours ago          \n",
      "llama3.3:latest    a6eb4748fd29    42 GB     3 weeks ago          \n"
     ]
    }
   ],
   "source": [
    "!ollama list"
   ]
  },
  {
   "cell_type": "code",
   "execution_count": 27,
   "metadata": {},
   "outputs": [],
   "source": [
    "models = [\n",
    "    #\"ollama:deepseek-r1:8b\",\n",
    "    #\"ollama:llama:3.3:latest\",\n",
    "    \"ollama:llama3.2:latest\",\n",
    "    \"ollama:gemma2:9b\",\n",
    "    \"ollama:phi4:latest\"\n",
    "]"
   ]
  },
  {
   "cell_type": "code",
   "execution_count": 28,
   "metadata": {},
   "outputs": [],
   "source": [
    "replies = {}\n",
    "\n",
    "for selected_model in models:\n",
    "    response = client.chat.completions.create(model=selected_model, messages=messages)\n",
    "    replies[selected_model] = response.choices[0].message.content"
   ]
  },
  {
   "cell_type": "code",
   "execution_count": 22,
   "metadata": {},
   "outputs": [
    {
     "name": "stdout",
     "output_type": "stream",
     "text": [
      "Model: ollama:llama3.2:latest; reply's length = 243\n",
      "Model: ollama:gemma2:9b; reply's length = 304\n"
     ]
    }
   ],
   "source": [
    "for k,v in replies.items():\n",
    "    print(f\"Model: {k}; reply's length = {len(v)}\")"
   ]
  },
  {
   "cell_type": "code",
   "execution_count": 29,
   "metadata": {},
   "outputs": [
    {
     "data": {
      "text/plain": [
       "{'ollama:llama3.2:latest': \"Yer lookin' fer a joke about that scurvy dog, eh? Alright then, listen close:\\n\\nWhy did Captain Jack Sparrow bring a ladder aboard his ship?\\n\\nBecause he heard the drinks were on the house! Arrr, no rum, no fun!\",\n",
       " 'ollama:gemma2:9b': \"Ahoy, matey! Ye want a tale 'bout ol' Jack Sparrow? \\n\\nGather 'round and listen close:\\n\\nWhy did Captain Jack Sparrow always carry two compasses? \\n\\nTo be sure he wasn't lost at sea...and to have one to point the way to the nearest grog stash! No rum, no fun, ye hear?  🍻💀\\n\\n\\n\",\n",
       " 'ollama:phi4:latest': 'Ahoy there, matey! Gather \\'round for a tale o\\' ol\\' Cap\\'n Jack Sparrow!\\n\\nSo, what happens when you mix Captain Jack Sparrow with a chicken?\\n\\nYou get... \"Cluckin\\' up the wrong ship!\"\\n\\nArrr, no rum, no fun! But remember, ye never know where yer adventure will take ye next!'}"
      ]
     },
     "execution_count": 29,
     "metadata": {},
     "output_type": "execute_result"
    }
   ],
   "source": [
    "replies"
   ]
  },
  {
   "cell_type": "markdown",
   "metadata": {},
   "source": [
    "## Query LLMs with real TextEnt data"
   ]
  },
  {
   "cell_type": "markdown",
   "metadata": {},
   "source": [
    "- for each document, load the pre-generated summary\n",
    "- based on the summary, for each doc generate 3 prompts (metadata, metadata + incipit, metadata + summary)\n",
    "- iterate over doc, iterate over prompts per doc, iterate over models, then query with triples (docu, model, prompt)\n",
    "\n",
    "- start with a spacy document\n",
    "- load the corresponding pre-generated summary\n",
    "- define a `build_prompts` function that takes a `spacy_doc` as input and returns a list of tuples `('prompt-id', 'prompt-message')` "
   ]
  },
  {
   "cell_type": "code",
   "execution_count": 98,
   "metadata": {},
   "outputs": [],
   "source": [
    "import random\n",
    "from pathlib import Path\n",
    "from textentlib.prompting import pre_generate_prompts\n",
    "from textentlib.utils import load_or_create_corpus, nlp_model_fr"
   ]
  },
  {
   "cell_type": "code",
   "execution_count": 99,
   "metadata": {},
   "outputs": [],
   "source": [
    "SPACY_CORPUS_SERIALIZED_PATH = Path(\"../data/corpus_24022025.spacy\")\n",
    "PRE_GENERATED_PROMPTS_PATH = Path(\"../data/prompts/pregenerated\")    \n",
    "SAMPLE_SIZE = 50"
   ]
  },
  {
   "cell_type": "code",
   "execution_count": 100,
   "metadata": {},
   "outputs": [
    {
     "name": "stdout",
     "output_type": "stream",
     "text": [
      "Loaded serialize spacy corpus from ../data/corpus_24022025.spacy\n",
      "Number of documents in the corpus: 594\n",
      "Number of entities in the corpus: 287389\n",
      "Number of tokens in the corpus: 12885306\n"
     ]
    }
   ],
   "source": [
    "spacy_corpus = load_or_create_corpus(SPACY_CORPUS_SERIALIZED_PATH)"
   ]
  },
  {
   "cell_type": "code",
   "execution_count": 101,
   "metadata": {},
   "outputs": [],
   "source": [
    "docs = spacy_corpus.get_docs(nlp_model_fr.vocab)\n",
    "docs = list(docs)"
   ]
  },
  {
   "cell_type": "code",
   "execution_count": 102,
   "metadata": {},
   "outputs": [],
   "source": [
    "# TODO:\n",
    "# - we may want to exclude documents in the validation set\n",
    "# - we may want to exclude documents that are very long (> 150k tokens)\n",
    "sampled_docs = random.sample(docs, SAMPLE_SIZE)"
   ]
  },
  {
   "cell_type": "code",
   "execution_count": 103,
   "metadata": {},
   "outputs": [
    {
     "data": {
      "text/plain": [
       "50"
      ]
     },
     "execution_count": 103,
     "metadata": {},
     "output_type": "execute_result"
    }
   ],
   "source": [
    "len(sampled_docs)"
   ]
  },
  {
   "cell_type": "code",
   "execution_count": 104,
   "metadata": {},
   "outputs": [
    {
     "data": {
      "text/plain": [
       "50"
      ]
     },
     "execution_count": 104,
     "metadata": {},
     "output_type": "execute_result"
    }
   ],
   "source": [
    "len(sampled_docs)"
   ]
  },
  {
   "cell_type": "code",
   "execution_count": 105,
   "metadata": {},
   "outputs": [
    {
     "name": "stderr",
     "output_type": "stream",
     "text": [
      "Pre-generating prompts: 100%|██████████| 50/50 [00:01<00:00, 30.27it/s]"
     ]
    },
    {
     "name": "stdout",
     "output_type": "stream",
     "text": [
      "\n"
     ]
    },
    {
     "name": "stderr",
     "output_type": "stream",
     "text": [
      "\n"
     ]
    }
   ],
   "source": [
    "pre_generate_prompts(sampled_docs, PRE_GENERATED_PROMPTS_PATH)"
   ]
  },
  {
   "cell_type": "code",
   "execution_count": 9,
   "metadata": {},
   "outputs": [],
   "source": [
    "from pathlib import Path\n",
    "from dataclasses import dataclass\n",
    "\n",
    "@dataclass\n",
    "class LLMrequest:\n",
    "    prompt_id: str\n",
    "    document_id: str\n",
    "    prompt_path: Path\n",
    "    prompt: str\n",
    "\n",
    "@dataclass\n",
    "class LLMresponse:\n",
    "    document_id: str\n",
    "    prompt_id: str\n",
    "    prompt: str\n",
    "    model_name: str\n",
    "    response: str"
   ]
  },
  {
   "cell_type": "code",
   "execution_count": 10,
   "metadata": {},
   "outputs": [],
   "source": [
    "import aisuite as ai\n",
    "\n",
    "client = ai.Client()\n",
    "client.configure({\n",
    "  \"ollama\" : {\n",
    "    \"timeout\": 600,\n",
    "  }\n",
    "})"
   ]
  },
  {
   "cell_type": "code",
   "execution_count": 86,
   "metadata": {},
   "outputs": [],
   "source": [
    "import re\n",
    "import json\n",
    "import pandas as pd\n",
    "from typing import Dict\n",
    "\n",
    "import contextlib\n",
    "import re\n",
    "import json\n",
    "\n",
    "JSON_PATTERN = re.compile(r\"```json\\n(.*?)```\", re.DOTALL)\n",
    "DIRECT_JSON_PATTERN = re.compile(r\"\\{[^}]*\\}\", re.DOTALL)\n",
    "\n",
    "\n",
    "def try_extract_json_from_text(text: str) -> tuple[str, dict | None]:\n",
    "    # function taken from https://danielvanstrien.xyz/posts/2025/deepseek/distil-deepseek-modernbert.html\n",
    "    if match := JSON_PATTERN.search(text):\n",
    "        json_results = match.group(1)\n",
    "        with contextlib.suppress(json.JSONDecodeError):\n",
    "            return text, json.loads(json_results)\n",
    "    if match := DIRECT_JSON_PATTERN.search(text):\n",
    "        json_text = match.group(0)\n",
    "        with contextlib.suppress(json.JSONDecodeError):\n",
    "            return text, json.loads(json_text)\n",
    "    return text, None\n",
    "\n",
    "def process_json_response(response_raw: str) -> Dict:\n",
    "    # is response empty?\n",
    "    # is response valid JSON?\n",
    "    \n",
    "    output_dict = {}\n",
    "    output_dict['is_response_empty'] = True if response_raw.strip() == '' else False\n",
    "\n",
    "    try:\n",
    "        response_json = json.loads(response_raw)\n",
    "        output_dict['is_response_valid_json'] = True\n",
    "        output_dict.update(response_json)\n",
    "    except json.JSONDecodeError:\n",
    "        output_dict['is_response_valid_json'] = False\n",
    "        _, response_json = try_extract_json_from_text(response_raw)\n",
    "        if response_json:\n",
    "            output_dict.update(response_json)\n",
    "    return output_dict\n",
    "\n",
    "def process_llm_responses(llm_responses_path: Path) -> pd.DataFrame:\n",
    "    # each sub-folder contains the responses for a given document\n",
    "    # we need to group the responses by model so that separate dataframes can be generated\n",
    "    responses = []\n",
    "    all_response_files = list(llm_responses_path.glob('*/*.txt'))\n",
    "    for file_path in all_response_files:\n",
    "        doc_id, prompt_id, model_id = file_path.name.replace('.txt', '').split('_')\n",
    "        with file_path.open(\"r\", encoding=\"utf-8\") as file:\n",
    "            response_raw = file.read()\n",
    "        response = {\n",
    "            \"document_id\": doc_id,\n",
    "            \"prompt_id\": prompt_id,\n",
    "            \"model_id\": model_id,\n",
    "            \"response_raw\": response_raw\n",
    "        }\n",
    "\n",
    "        response_content = process_json_response(response_raw)\n",
    "        response.update(response_content)\n",
    "        responses.append(response)\n",
    "    return pd.DataFrame(responses)"
   ]
  },
  {
   "cell_type": "code",
   "execution_count": 87,
   "metadata": {},
   "outputs": [],
   "source": [
    "llm_responses_path = Path('../data/llm_responses')\n",
    "data = process_llm_responses(llm_responses_path)"
   ]
  },
  {
   "cell_type": "code",
   "execution_count": 89,
   "metadata": {},
   "outputs": [
    {
     "data": {
      "text/html": [
       "<div>\n",
       "<style scoped>\n",
       "    .dataframe tbody tr th:only-of-type {\n",
       "        vertical-align: middle;\n",
       "    }\n",
       "\n",
       "    .dataframe tbody tr th {\n",
       "        vertical-align: top;\n",
       "    }\n",
       "\n",
       "    .dataframe thead th {\n",
       "        text-align: right;\n",
       "    }\n",
       "</style>\n",
       "<table border=\"1\" class=\"dataframe\">\n",
       "  <thead>\n",
       "    <tr style=\"text-align: right;\">\n",
       "      <th></th>\n",
       "      <th>document_id</th>\n",
       "      <th>prompt_id</th>\n",
       "      <th>model_id</th>\n",
       "      <th>response_raw</th>\n",
       "      <th>is_response_empty</th>\n",
       "      <th>is_response_valid_json</th>\n",
       "      <th>period</th>\n",
       "      <th>period_reasoning</th>\n",
       "      <th>timeframe_start</th>\n",
       "      <th>timeframe_end</th>\n",
       "      <th>location</th>\n",
       "      <th>location_reasoning</th>\n",
       "      <th>location_qid</th>\n",
       "    </tr>\n",
       "  </thead>\n",
       "  <tbody>\n",
       "    <tr>\n",
       "      <th>0</th>\n",
       "      <td>bpt6k15110748</td>\n",
       "      <td>prompt-excerpt</td>\n",
       "      <td>anthropic-claude-3-7-sonnet-20250219</td>\n",
       "      <td>{\\n    \"period\": \"Ancient Greece or Persia\",\\n...</td>\n",
       "      <td>False</td>\n",
       "      <td>True</td>\n",
       "      <td>Ancient Greece or Persia</td>\n",
       "      <td>The excerpt mentions a character with a royal ...</td>\n",
       "      <td>0550-01-01</td>\n",
       "      <td>0330-01-01</td>\n",
       "      <td>Ancient Persia (Achaemenid Empire)</td>\n",
       "      <td>The play is titled 'Panthée', which likely ref...</td>\n",
       "      <td>Q47246</td>\n",
       "    </tr>\n",
       "    <tr>\n",
       "      <th>1</th>\n",
       "      <td>bpt6k15110748</td>\n",
       "      <td>prompt-metadata</td>\n",
       "      <td>anthropic-claude-3-7-sonnet-20250219</td>\n",
       "      <td>{\\n    \"period\": \"Antiquity, Achaemenid Empire...</td>\n",
       "      <td>False</td>\n",
       "      <td>True</td>\n",
       "      <td>Antiquity, Achaemenid Empire</td>\n",
       "      <td>Panthée is likely based on the story of Panthe...</td>\n",
       "      <td>0550-01-01</td>\n",
       "      <td>0530-01-01</td>\n",
       "      <td>Ancient Persia (modern-day Iran)</td>\n",
       "      <td>The story of Panthea takes place in the Persia...</td>\n",
       "      <td>Q794</td>\n",
       "    </tr>\n",
       "    <tr>\n",
       "      <th>4</th>\n",
       "      <td>bpt6k15110748</td>\n",
       "      <td>prompt-summary</td>\n",
       "      <td>anthropic-claude-3-7-sonnet-20250219</td>\n",
       "      <td>{\\n    \"period\": \"Ancient Persian Empire (Acha...</td>\n",
       "      <td>False</td>\n",
       "      <td>True</td>\n",
       "      <td>Ancient Persian Empire (Achaemenid Dynasty)</td>\n",
       "      <td>The play prominently features Cyrus, who appea...</td>\n",
       "      <td>0559-01-01</td>\n",
       "      <td>0530-01-01</td>\n",
       "      <td>Persia (Ancient Persian Empire)</td>\n",
       "      <td>Among the top 5 places mentioned are 'Perse' (...</td>\n",
       "      <td>Q47246</td>\n",
       "    </tr>\n",
       "    <tr>\n",
       "      <th>5</th>\n",
       "      <td>bpt6k15110748</td>\n",
       "      <td>prompt-excerpt</td>\n",
       "      <td>ollama-gemma2-9b</td>\n",
       "      <td>{\\n  \"period\": \"16th-18th century Europe\",\\n  ...</td>\n",
       "      <td>False</td>\n",
       "      <td>True</td>\n",
       "      <td>16th-18th century Europe</td>\n",
       "      <td>The play is a French tragedy from the XVII cen...</td>\n",
       "      <td>1500-01-01</td>\n",
       "      <td>1800-12-31</td>\n",
       "      <td>France or a European kingdom influenced by Fre...</td>\n",
       "      <td>The author is Tristan L'Hermite, a French play...</td>\n",
       "      <td>None</td>\n",
       "    </tr>\n",
       "    <tr>\n",
       "      <th>7</th>\n",
       "      <td>bpt6k15110748</td>\n",
       "      <td>prompt-metadata</td>\n",
       "      <td>ollama-phi4-latest</td>\n",
       "      <td>{\\n    \"period\": \"Ancient Greece\",\\n    \"perio...</td>\n",
       "      <td>False</td>\n",
       "      <td>True</td>\n",
       "      <td>Ancient Greece</td>\n",
       "      <td>Tristan L'Hermite's play 'Panthée, tragédie de...</td>\n",
       "      <td>-800-01-01</td>\n",
       "      <td>-146-12-31</td>\n",
       "      <td>Greece</td>\n",
       "      <td>Given that the play is a tragedy and likely in...</td>\n",
       "      <td>Q48</td>\n",
       "    </tr>\n",
       "    <tr>\n",
       "      <th>9</th>\n",
       "      <td>bpt6k15110748</td>\n",
       "      <td>prompt-summary</td>\n",
       "      <td>ollama-gemma2-9b</td>\n",
       "      <td>{\\n    \"period\": \"17th century\",\\n    \"period_...</td>\n",
       "      <td>False</td>\n",
       "      <td>True</td>\n",
       "      <td>17th century</td>\n",
       "      <td>The metadata indicates the play was published ...</td>\n",
       "      <td>1600-01-01</td>\n",
       "      <td>1700-12-31</td>\n",
       "      <td>Perse</td>\n",
       "      <td>The text mentions Cyrus and the play likely dr...</td>\n",
       "      <td>Q895</td>\n",
       "    </tr>\n",
       "    <tr>\n",
       "      <th>11</th>\n",
       "      <td>bpt6k15110748</td>\n",
       "      <td>prompt-metadata</td>\n",
       "      <td>ollama-gemma2-9b</td>\n",
       "      <td>{\\n    \"period\": \"Classical antiquity\",\\n    \"...</td>\n",
       "      <td>False</td>\n",
       "      <td>True</td>\n",
       "      <td>Classical antiquity</td>\n",
       "      <td>The title 'Panthée' directly refers to Pan, a ...</td>\n",
       "      <td>1000-01-01</td>\n",
       "      <td>500-01-01</td>\n",
       "      <td>Ancient Greece</td>\n",
       "      <td>The mention of Pan, a Greek god, strongly sugg...</td>\n",
       "      <td>Q394</td>\n",
       "    </tr>\n",
       "    <tr>\n",
       "      <th>12</th>\n",
       "      <td>bpt6k8569801</td>\n",
       "      <td>prompt-metadata</td>\n",
       "      <td>ollama-gemma2-9b</td>\n",
       "      <td>{\\n  \"period\": \"17th century\",\\n  \"period_reas...</td>\n",
       "      <td>False</td>\n",
       "      <td>True</td>\n",
       "      <td>17th century</td>\n",
       "      <td>The publication date is 1699, placing it withi...</td>\n",
       "      <td>1600-01-01</td>\n",
       "      <td>1700-01-01</td>\n",
       "      <td>Lyon</td>\n",
       "      <td>The title of the play is 'Le Carnaval de Lyon,...</td>\n",
       "      <td>Q894</td>\n",
       "    </tr>\n",
       "    <tr>\n",
       "      <th>13</th>\n",
       "      <td>bpt6k8569801</td>\n",
       "      <td>prompt-excerpt</td>\n",
       "      <td>ollama-gemma2-9b</td>\n",
       "      <td>{\\n    \"period\": \"17th century\",\\n    \"period_...</td>\n",
       "      <td>False</td>\n",
       "      <td>True</td>\n",
       "      <td>17th century</td>\n",
       "      <td>The metadata indicates the play was published ...</td>\n",
       "      <td>1600-01-01</td>\n",
       "      <td>1700-01-01</td>\n",
       "      <td>Lyon</td>\n",
       "      <td>The title of the play is 'Le Carnaval de Lyon'...</td>\n",
       "      <td>Q24683</td>\n",
       "    </tr>\n",
       "    <tr>\n",
       "      <th>15</th>\n",
       "      <td>bpt6k8569801</td>\n",
       "      <td>prompt-metadata</td>\n",
       "      <td>ollama-phi4-latest</td>\n",
       "      <td>{\\n    \"period\": \"Late 17th century France\",\\n...</td>\n",
       "      <td>False</td>\n",
       "      <td>True</td>\n",
       "      <td>Late 17th century France</td>\n",
       "      <td>The play was published in 1699, and it is titl...</td>\n",
       "      <td>1698-01-01</td>\n",
       "      <td>1700-12-31</td>\n",
       "      <td>Lyon, France</td>\n",
       "      <td>The title 'Le Carnaval de Lyon' directly sugge...</td>\n",
       "      <td>Q1524</td>\n",
       "    </tr>\n",
       "    <tr>\n",
       "      <th>19</th>\n",
       "      <td>bpt6k8569801</td>\n",
       "      <td>prompt-summary</td>\n",
       "      <td>ollama-phi4-latest</td>\n",
       "      <td>{\\n    \"period\": \"17th century France, during ...</td>\n",
       "      <td>False</td>\n",
       "      <td>True</td>\n",
       "      <td>17th century France, during the late 1600s</td>\n",
       "      <td>The metadata specifies that the play 'Le Carna...</td>\n",
       "      <td>1690-01-01</td>\n",
       "      <td>1700-12-31</td>\n",
       "      <td>Lyon, France</td>\n",
       "      <td>The title of the play, 'Le Carnaval de Lyon,' ...</td>\n",
       "      <td>Q174</td>\n",
       "    </tr>\n",
       "    <tr>\n",
       "      <th>20</th>\n",
       "      <td>bpt6k8569801</td>\n",
       "      <td>prompt-summary</td>\n",
       "      <td>ollama-gemma2-9b</td>\n",
       "      <td>{\\n    \"period\": \"17th century\",\\n    \"period_...</td>\n",
       "      <td>False</td>\n",
       "      <td>True</td>\n",
       "      <td>17th century</td>\n",
       "      <td>The metadata indicates that the play was publi...</td>\n",
       "      <td>1600-01-01</td>\n",
       "      <td>1700-01-01</td>\n",
       "      <td>France</td>\n",
       "      <td>The play mentions places like Lyon, Mans, and ...</td>\n",
       "      <td>Q31</td>\n",
       "    </tr>\n",
       "    <tr>\n",
       "      <th>21</th>\n",
       "      <td>btv1b8622118r</td>\n",
       "      <td>prompt-excerpt</td>\n",
       "      <td>ollama-phi4-latest</td>\n",
       "      <td>{\\n    \"period\": \"17th century (Baroque period...</td>\n",
       "      <td>False</td>\n",
       "      <td>True</td>\n",
       "      <td>17th century (Baroque period)</td>\n",
       "      <td>The play was authored by Jean de Rotrou and pu...</td>\n",
       "      <td>1600-01-01</td>\n",
       "      <td>1699-12-31</td>\n",
       "      <td>Venice</td>\n",
       "      <td>The excerpt mentions 'Uénise,' which is a clea...</td>\n",
       "      <td>Q145</td>\n",
       "    </tr>\n",
       "    <tr>\n",
       "      <th>22</th>\n",
       "      <td>btv1b8622118r</td>\n",
       "      <td>prompt-summary</td>\n",
       "      <td>ollama-gemma2-9b</td>\n",
       "      <td>{\\n    \"period\": \"17th century\",\\n    \"period_...</td>\n",
       "      <td>False</td>\n",
       "      <td>True</td>\n",
       "      <td>17th century</td>\n",
       "      <td>The metadata indicates that the play was publi...</td>\n",
       "      <td>1601-01-01</td>\n",
       "      <td>1700-12-31</td>\n",
       "      <td>Turquie</td>\n",
       "      <td>The play repeatedly mentions 'Turquie' as a lo...</td>\n",
       "      <td>Q56</td>\n",
       "    </tr>\n",
       "    <tr>\n",
       "      <th>24</th>\n",
       "      <td>btv1b8622118r</td>\n",
       "      <td>prompt-metadata</td>\n",
       "      <td>ollama-gemma2-9b</td>\n",
       "      <td>{\\n    \"period\": \"XVII century\",\\n    \"period_...</td>\n",
       "      <td>False</td>\n",
       "      <td>True</td>\n",
       "      <td>XVII century</td>\n",
       "      <td>The metadata contains the publication date '16...</td>\n",
       "      <td>1601-01-01</td>\n",
       "      <td>1700-12-31</td>\n",
       "      <td>None</td>\n",
       "      <td>The provided information does not specify the ...</td>\n",
       "      <td>None</td>\n",
       "    </tr>\n",
       "    <tr>\n",
       "      <th>25</th>\n",
       "      <td>btv1b8622118r</td>\n",
       "      <td>prompt-metadata</td>\n",
       "      <td>ollama-phi4-latest</td>\n",
       "      <td>{\\n    \"period\": null,\\n    \"period_reasoning\"...</td>\n",
       "      <td>False</td>\n",
       "      <td>True</td>\n",
       "      <td>None</td>\n",
       "      <td>The JSON object provides metadata about a play...</td>\n",
       "      <td>None</td>\n",
       "      <td>None</td>\n",
       "      <td>None</td>\n",
       "      <td>The metadata does not contain any details abou...</td>\n",
       "      <td>None</td>\n",
       "    </tr>\n",
       "    <tr>\n",
       "      <th>26</th>\n",
       "      <td>btv1b8622118r</td>\n",
       "      <td>prompt-excerpt</td>\n",
       "      <td>ollama-gemma2-9b</td>\n",
       "      <td>{\\n    \"period\": \"Early Modern Period\",\\n    \"...</td>\n",
       "      <td>False</td>\n",
       "      <td>True</td>\n",
       "      <td>Early Modern Period</td>\n",
       "      <td>The play was written in 1647, which places it ...</td>\n",
       "      <td>1500-01-01</td>\n",
       "      <td>1800-01-01</td>\n",
       "      <td>France</td>\n",
       "      <td>The author is Jean de Rotrou, a French playwri...</td>\n",
       "      <td>Q31156</td>\n",
       "    </tr>\n",
       "  </tbody>\n",
       "</table>\n",
       "</div>"
      ],
      "text/plain": [
       "      document_id        prompt_id                              model_id  \\\n",
       "0   bpt6k15110748   prompt-excerpt  anthropic-claude-3-7-sonnet-20250219   \n",
       "1   bpt6k15110748  prompt-metadata  anthropic-claude-3-7-sonnet-20250219   \n",
       "4   bpt6k15110748   prompt-summary  anthropic-claude-3-7-sonnet-20250219   \n",
       "5   bpt6k15110748   prompt-excerpt                      ollama-gemma2-9b   \n",
       "7   bpt6k15110748  prompt-metadata                    ollama-phi4-latest   \n",
       "9   bpt6k15110748   prompt-summary                      ollama-gemma2-9b   \n",
       "11  bpt6k15110748  prompt-metadata                      ollama-gemma2-9b   \n",
       "12   bpt6k8569801  prompt-metadata                      ollama-gemma2-9b   \n",
       "13   bpt6k8569801   prompt-excerpt                      ollama-gemma2-9b   \n",
       "15   bpt6k8569801  prompt-metadata                    ollama-phi4-latest   \n",
       "19   bpt6k8569801   prompt-summary                    ollama-phi4-latest   \n",
       "20   bpt6k8569801   prompt-summary                      ollama-gemma2-9b   \n",
       "21  btv1b8622118r   prompt-excerpt                    ollama-phi4-latest   \n",
       "22  btv1b8622118r   prompt-summary                      ollama-gemma2-9b   \n",
       "24  btv1b8622118r  prompt-metadata                      ollama-gemma2-9b   \n",
       "25  btv1b8622118r  prompt-metadata                    ollama-phi4-latest   \n",
       "26  btv1b8622118r   prompt-excerpt                      ollama-gemma2-9b   \n",
       "\n",
       "                                         response_raw  is_response_empty  \\\n",
       "0   {\\n    \"period\": \"Ancient Greece or Persia\",\\n...              False   \n",
       "1   {\\n    \"period\": \"Antiquity, Achaemenid Empire...              False   \n",
       "4   {\\n    \"period\": \"Ancient Persian Empire (Acha...              False   \n",
       "5   {\\n  \"period\": \"16th-18th century Europe\",\\n  ...              False   \n",
       "7   {\\n    \"period\": \"Ancient Greece\",\\n    \"perio...              False   \n",
       "9   {\\n    \"period\": \"17th century\",\\n    \"period_...              False   \n",
       "11  {\\n    \"period\": \"Classical antiquity\",\\n    \"...              False   \n",
       "12  {\\n  \"period\": \"17th century\",\\n  \"period_reas...              False   \n",
       "13  {\\n    \"period\": \"17th century\",\\n    \"period_...              False   \n",
       "15  {\\n    \"period\": \"Late 17th century France\",\\n...              False   \n",
       "19  {\\n    \"period\": \"17th century France, during ...              False   \n",
       "20  {\\n    \"period\": \"17th century\",\\n    \"period_...              False   \n",
       "21  {\\n    \"period\": \"17th century (Baroque period...              False   \n",
       "22  {\\n    \"period\": \"17th century\",\\n    \"period_...              False   \n",
       "24  {\\n    \"period\": \"XVII century\",\\n    \"period_...              False   \n",
       "25  {\\n    \"period\": null,\\n    \"period_reasoning\"...              False   \n",
       "26  {\\n    \"period\": \"Early Modern Period\",\\n    \"...              False   \n",
       "\n",
       "    is_response_valid_json                                       period  \\\n",
       "0                     True                     Ancient Greece or Persia   \n",
       "1                     True                 Antiquity, Achaemenid Empire   \n",
       "4                     True  Ancient Persian Empire (Achaemenid Dynasty)   \n",
       "5                     True                     16th-18th century Europe   \n",
       "7                     True                               Ancient Greece   \n",
       "9                     True                                 17th century   \n",
       "11                    True                          Classical antiquity   \n",
       "12                    True                                 17th century   \n",
       "13                    True                                 17th century   \n",
       "15                    True                     Late 17th century France   \n",
       "19                    True   17th century France, during the late 1600s   \n",
       "20                    True                                 17th century   \n",
       "21                    True                17th century (Baroque period)   \n",
       "22                    True                                 17th century   \n",
       "24                    True                                 XVII century   \n",
       "25                    True                                         None   \n",
       "26                    True                          Early Modern Period   \n",
       "\n",
       "                                     period_reasoning timeframe_start  \\\n",
       "0   The excerpt mentions a character with a royal ...      0550-01-01   \n",
       "1   Panthée is likely based on the story of Panthe...      0550-01-01   \n",
       "4   The play prominently features Cyrus, who appea...      0559-01-01   \n",
       "5   The play is a French tragedy from the XVII cen...      1500-01-01   \n",
       "7   Tristan L'Hermite's play 'Panthée, tragédie de...      -800-01-01   \n",
       "9   The metadata indicates the play was published ...      1600-01-01   \n",
       "11  The title 'Panthée' directly refers to Pan, a ...      1000-01-01   \n",
       "12  The publication date is 1699, placing it withi...      1600-01-01   \n",
       "13  The metadata indicates the play was published ...      1600-01-01   \n",
       "15  The play was published in 1699, and it is titl...      1698-01-01   \n",
       "19  The metadata specifies that the play 'Le Carna...      1690-01-01   \n",
       "20  The metadata indicates that the play was publi...      1600-01-01   \n",
       "21  The play was authored by Jean de Rotrou and pu...      1600-01-01   \n",
       "22  The metadata indicates that the play was publi...      1601-01-01   \n",
       "24  The metadata contains the publication date '16...      1601-01-01   \n",
       "25  The JSON object provides metadata about a play...            None   \n",
       "26  The play was written in 1647, which places it ...      1500-01-01   \n",
       "\n",
       "   timeframe_end                                           location  \\\n",
       "0     0330-01-01                 Ancient Persia (Achaemenid Empire)   \n",
       "1     0530-01-01                   Ancient Persia (modern-day Iran)   \n",
       "4     0530-01-01                    Persia (Ancient Persian Empire)   \n",
       "5     1800-12-31  France or a European kingdom influenced by Fre...   \n",
       "7     -146-12-31                                             Greece   \n",
       "9     1700-12-31                                              Perse   \n",
       "11     500-01-01                                     Ancient Greece   \n",
       "12    1700-01-01                                               Lyon   \n",
       "13    1700-01-01                                               Lyon   \n",
       "15    1700-12-31                                       Lyon, France   \n",
       "19    1700-12-31                                       Lyon, France   \n",
       "20    1700-01-01                                             France   \n",
       "21    1699-12-31                                             Venice   \n",
       "22    1700-12-31                                            Turquie   \n",
       "24    1700-12-31                                               None   \n",
       "25          None                                               None   \n",
       "26    1800-01-01                                             France   \n",
       "\n",
       "                                   location_reasoning location_qid  \n",
       "0   The play is titled 'Panthée', which likely ref...       Q47246  \n",
       "1   The story of Panthea takes place in the Persia...         Q794  \n",
       "4   Among the top 5 places mentioned are 'Perse' (...       Q47246  \n",
       "5   The author is Tristan L'Hermite, a French play...         None  \n",
       "7   Given that the play is a tragedy and likely in...          Q48  \n",
       "9   The text mentions Cyrus and the play likely dr...         Q895  \n",
       "11  The mention of Pan, a Greek god, strongly sugg...         Q394  \n",
       "12  The title of the play is 'Le Carnaval de Lyon,...         Q894  \n",
       "13  The title of the play is 'Le Carnaval de Lyon'...       Q24683  \n",
       "15  The title 'Le Carnaval de Lyon' directly sugge...        Q1524  \n",
       "19  The title of the play, 'Le Carnaval de Lyon,' ...         Q174  \n",
       "20  The play mentions places like Lyon, Mans, and ...          Q31  \n",
       "21  The excerpt mentions 'Uénise,' which is a clea...         Q145  \n",
       "22  The play repeatedly mentions 'Turquie' as a lo...          Q56  \n",
       "24  The provided information does not specify the ...         None  \n",
       "25  The metadata does not contain any details abou...         None  \n",
       "26  The author is Jean de Rotrou, a French playwri...       Q31156  "
      ]
     },
     "execution_count": 89,
     "metadata": {},
     "output_type": "execute_result"
    }
   ],
   "source": [
    "data[data['is_response_valid_json']==True]"
   ]
  },
  {
   "cell_type": "code",
   "execution_count": 80,
   "metadata": {},
   "outputs": [
    {
     "data": {
      "text/html": [
       "<div>\n",
       "<style scoped>\n",
       "    .dataframe tbody tr th:only-of-type {\n",
       "        vertical-align: middle;\n",
       "    }\n",
       "\n",
       "    .dataframe tbody tr th {\n",
       "        vertical-align: top;\n",
       "    }\n",
       "\n",
       "    .dataframe thead th {\n",
       "        text-align: right;\n",
       "    }\n",
       "</style>\n",
       "<table border=\"1\" class=\"dataframe\">\n",
       "  <thead>\n",
       "    <tr style=\"text-align: right;\">\n",
       "      <th></th>\n",
       "      <th>document_id</th>\n",
       "      <th>prompt_id</th>\n",
       "      <th>model_id</th>\n",
       "      <th>response_raw</th>\n",
       "      <th>is_response_empty</th>\n",
       "      <th>is_response_valid_json</th>\n",
       "      <th>period</th>\n",
       "      <th>period_reasoning</th>\n",
       "      <th>timeframe_start</th>\n",
       "      <th>timeframe_end</th>\n",
       "      <th>location</th>\n",
       "      <th>location_reasoning</th>\n",
       "      <th>location_qid</th>\n",
       "    </tr>\n",
       "  </thead>\n",
       "  <tbody>\n",
       "    <tr>\n",
       "      <th>3</th>\n",
       "      <td>bpt6k15110748</td>\n",
       "      <td>prompt-summary</td>\n",
       "      <td>ollama-llama3.2-latest</td>\n",
       "      <td></td>\n",
       "      <td>True</td>\n",
       "      <td>False</td>\n",
       "      <td>NaN</td>\n",
       "      <td>NaN</td>\n",
       "      <td>NaN</td>\n",
       "      <td>NaN</td>\n",
       "      <td>NaN</td>\n",
       "      <td>NaN</td>\n",
       "      <td>NaN</td>\n",
       "    </tr>\n",
       "    <tr>\n",
       "      <th>4</th>\n",
       "      <td>bpt6k15110748</td>\n",
       "      <td>prompt-summary</td>\n",
       "      <td>anthropic-claude-3-7-sonnet-20250219</td>\n",
       "      <td>{\\n    \"period\": \"Ancient Persian Empire (Acha...</td>\n",
       "      <td>False</td>\n",
       "      <td>True</td>\n",
       "      <td>Ancient Persian Empire (Achaemenid Dynasty)</td>\n",
       "      <td>The play prominently features Cyrus, who appea...</td>\n",
       "      <td>0559-01-01</td>\n",
       "      <td>0530-01-01</td>\n",
       "      <td>Persia (Ancient Persian Empire)</td>\n",
       "      <td>Among the top 5 places mentioned are 'Perse' (...</td>\n",
       "      <td>Q47246</td>\n",
       "    </tr>\n",
       "    <tr>\n",
       "      <th>9</th>\n",
       "      <td>bpt6k15110748</td>\n",
       "      <td>prompt-summary</td>\n",
       "      <td>ollama-gemma2-9b</td>\n",
       "      <td>{\\n    \"period\": \"17th century\",\\n    \"period_...</td>\n",
       "      <td>False</td>\n",
       "      <td>True</td>\n",
       "      <td>17th century</td>\n",
       "      <td>The metadata indicates the play was published ...</td>\n",
       "      <td>1600-01-01</td>\n",
       "      <td>1700-12-31</td>\n",
       "      <td>Perse</td>\n",
       "      <td>The text mentions Cyrus and the play likely dr...</td>\n",
       "      <td>Q895</td>\n",
       "    </tr>\n",
       "    <tr>\n",
       "      <th>10</th>\n",
       "      <td>bpt6k15110748</td>\n",
       "      <td>prompt-summary</td>\n",
       "      <td>ollama-phi4-latest</td>\n",
       "      <td>{\\n    \"period\": \"Achaemenid Empire, particula...</td>\n",
       "      <td>False</td>\n",
       "      <td>False</td>\n",
       "      <td>NaN</td>\n",
       "      <td>NaN</td>\n",
       "      <td>NaN</td>\n",
       "      <td>NaN</td>\n",
       "      <td>NaN</td>\n",
       "      <td>NaN</td>\n",
       "      <td>NaN</td>\n",
       "    </tr>\n",
       "  </tbody>\n",
       "</table>\n",
       "</div>"
      ],
      "text/plain": [
       "      document_id       prompt_id                              model_id  \\\n",
       "3   bpt6k15110748  prompt-summary                ollama-llama3.2-latest   \n",
       "4   bpt6k15110748  prompt-summary  anthropic-claude-3-7-sonnet-20250219   \n",
       "9   bpt6k15110748  prompt-summary                      ollama-gemma2-9b   \n",
       "10  bpt6k15110748  prompt-summary                    ollama-phi4-latest   \n",
       "\n",
       "                                         response_raw  is_response_empty  \\\n",
       "3                                                                   True   \n",
       "4   {\\n    \"period\": \"Ancient Persian Empire (Acha...              False   \n",
       "9   {\\n    \"period\": \"17th century\",\\n    \"period_...              False   \n",
       "10  {\\n    \"period\": \"Achaemenid Empire, particula...              False   \n",
       "\n",
       "    is_response_valid_json                                       period  \\\n",
       "3                    False                                          NaN   \n",
       "4                     True  Ancient Persian Empire (Achaemenid Dynasty)   \n",
       "9                     True                                 17th century   \n",
       "10                   False                                          NaN   \n",
       "\n",
       "                                     period_reasoning timeframe_start  \\\n",
       "3                                                 NaN             NaN   \n",
       "4   The play prominently features Cyrus, who appea...      0559-01-01   \n",
       "9   The metadata indicates the play was published ...      1600-01-01   \n",
       "10                                                NaN             NaN   \n",
       "\n",
       "   timeframe_end                         location  \\\n",
       "3            NaN                              NaN   \n",
       "4     0530-01-01  Persia (Ancient Persian Empire)   \n",
       "9     1700-12-31                            Perse   \n",
       "10           NaN                              NaN   \n",
       "\n",
       "                                   location_reasoning location_qid  \n",
       "3                                                 NaN          NaN  \n",
       "4   Among the top 5 places mentioned are 'Perse' (...       Q47246  \n",
       "9   The text mentions Cyrus and the play likely dr...         Q895  \n",
       "10                                                NaN          NaN  "
      ]
     },
     "execution_count": 80,
     "metadata": {},
     "output_type": "execute_result"
    }
   ],
   "source": [
    "data[(data['document_id'] == 'bpt6k15110748') & (data['prompt_id'] == 'prompt-summary')]"
   ]
  },
  {
   "cell_type": "code",
   "execution_count": 69,
   "metadata": {},
   "outputs": [
    {
     "data": {
      "text/html": [
       "<div>\n",
       "<style scoped>\n",
       "    .dataframe tbody tr th:only-of-type {\n",
       "        vertical-align: middle;\n",
       "    }\n",
       "\n",
       "    .dataframe tbody tr th {\n",
       "        vertical-align: top;\n",
       "    }\n",
       "\n",
       "    .dataframe thead th {\n",
       "        text-align: right;\n",
       "    }\n",
       "</style>\n",
       "<table border=\"1\" class=\"dataframe\">\n",
       "  <thead>\n",
       "    <tr style=\"text-align: right;\">\n",
       "      <th></th>\n",
       "      <th>document_id</th>\n",
       "      <th>prompt_id</th>\n",
       "      <th>model_id</th>\n",
       "      <th>response_raw</th>\n",
       "      <th>is_response_empty</th>\n",
       "      <th>is_response_valid_json</th>\n",
       "      <th>period</th>\n",
       "      <th>period_reasoning</th>\n",
       "      <th>timeframe_start</th>\n",
       "      <th>timeframe_end</th>\n",
       "      <th>location</th>\n",
       "      <th>location_reasoning</th>\n",
       "      <th>location_qid</th>\n",
       "    </tr>\n",
       "  </thead>\n",
       "  <tbody>\n",
       "    <tr>\n",
       "      <th>6</th>\n",
       "      <td>bpt6k15110748</td>\n",
       "      <td>prompt-excerpt</td>\n",
       "      <td>ollama-phi4-latest</td>\n",
       "      <td>{\\n    \"period\": \"17th century France\",\\n    \"...</td>\n",
       "      <td>False</td>\n",
       "      <td>False</td>\n",
       "      <td>NaN</td>\n",
       "      <td>NaN</td>\n",
       "      <td>NaN</td>\n",
       "      <td>NaN</td>\n",
       "      <td>NaN</td>\n",
       "      <td>NaN</td>\n",
       "      <td>NaN</td>\n",
       "    </tr>\n",
       "    <tr>\n",
       "      <th>10</th>\n",
       "      <td>bpt6k15110748</td>\n",
       "      <td>prompt-summary</td>\n",
       "      <td>ollama-phi4-latest</td>\n",
       "      <td>{\\n    \"period\": \"Achaemenid Empire, particula...</td>\n",
       "      <td>False</td>\n",
       "      <td>False</td>\n",
       "      <td>NaN</td>\n",
       "      <td>NaN</td>\n",
       "      <td>NaN</td>\n",
       "      <td>NaN</td>\n",
       "      <td>NaN</td>\n",
       "      <td>NaN</td>\n",
       "      <td>NaN</td>\n",
       "    </tr>\n",
       "    <tr>\n",
       "      <th>14</th>\n",
       "      <td>bpt6k8569801</td>\n",
       "      <td>prompt-excerpt</td>\n",
       "      <td>ollama-phi4-latest</td>\n",
       "      <td>{\\n    \"period\": \"Late 17th century France\",\\n...</td>\n",
       "      <td>False</td>\n",
       "      <td>False</td>\n",
       "      <td>NaN</td>\n",
       "      <td>NaN</td>\n",
       "      <td>NaN</td>\n",
       "      <td>NaN</td>\n",
       "      <td>NaN</td>\n",
       "      <td>NaN</td>\n",
       "      <td>NaN</td>\n",
       "    </tr>\n",
       "    <tr>\n",
       "      <th>27</th>\n",
       "      <td>btv1b8622118r</td>\n",
       "      <td>prompt-summary</td>\n",
       "      <td>ollama-phi4-latest</td>\n",
       "      <td>{\\n    \"period\": \"17th century Europe\",\\n    \"...</td>\n",
       "      <td>False</td>\n",
       "      <td>False</td>\n",
       "      <td>NaN</td>\n",
       "      <td>NaN</td>\n",
       "      <td>NaN</td>\n",
       "      <td>NaN</td>\n",
       "      <td>NaN</td>\n",
       "      <td>NaN</td>\n",
       "      <td>NaN</td>\n",
       "    </tr>\n",
       "  </tbody>\n",
       "</table>\n",
       "</div>"
      ],
      "text/plain": [
       "      document_id       prompt_id            model_id  \\\n",
       "6   bpt6k15110748  prompt-excerpt  ollama-phi4-latest   \n",
       "10  bpt6k15110748  prompt-summary  ollama-phi4-latest   \n",
       "14   bpt6k8569801  prompt-excerpt  ollama-phi4-latest   \n",
       "27  btv1b8622118r  prompt-summary  ollama-phi4-latest   \n",
       "\n",
       "                                         response_raw  is_response_empty  \\\n",
       "6   {\\n    \"period\": \"17th century France\",\\n    \"...              False   \n",
       "10  {\\n    \"period\": \"Achaemenid Empire, particula...              False   \n",
       "14  {\\n    \"period\": \"Late 17th century France\",\\n...              False   \n",
       "27  {\\n    \"period\": \"17th century Europe\",\\n    \"...              False   \n",
       "\n",
       "    is_response_valid_json period period_reasoning timeframe_start  \\\n",
       "6                    False    NaN              NaN             NaN   \n",
       "10                   False    NaN              NaN             NaN   \n",
       "14                   False    NaN              NaN             NaN   \n",
       "27                   False    NaN              NaN             NaN   \n",
       "\n",
       "   timeframe_end location location_reasoning location_qid  \n",
       "6            NaN      NaN                NaN          NaN  \n",
       "10           NaN      NaN                NaN          NaN  \n",
       "14           NaN      NaN                NaN          NaN  \n",
       "27           NaN      NaN                NaN          NaN  "
      ]
     },
     "execution_count": 69,
     "metadata": {},
     "output_type": "execute_result"
    }
   ],
   "source": [
    "data[(data['is_response_empty'] == False) & (data['is_response_valid_json'] == False)]"
   ]
  },
  {
   "cell_type": "code",
   "execution_count": 15,
   "metadata": {},
   "outputs": [],
   "source": [
    "llm_requests = []\n",
    "\n",
    "for subdir in Path('../data/prompts/pregenerated').iterdir():\n",
    "    for file in subdir.iterdir():\n",
    "        doc_id, prompt_id = file.name.split('_')\n",
    "        prompt_id = prompt_id.split('.')[0]\n",
    "        prompt = file.read_text()\n",
    "        llm_requests.append(LLMrequest(prompt_id, doc_id, file, prompt))"
   ]
  },
  {
   "cell_type": "code",
   "execution_count": 16,
   "metadata": {},
   "outputs": [
    {
     "name": "stdout",
     "output_type": "stream",
     "text": [
      "147\n"
     ]
    }
   ],
   "source": [
    "print(len(llm_requests))"
   ]
  },
  {
   "cell_type": "code",
   "execution_count": 27,
   "metadata": {},
   "outputs": [
    {
     "name": "stdout",
     "output_type": "stream",
     "text": [
      "Processing prompt prompt-summary for document bpt6k15110748 using model anthropic:claude-3-7-sonnet-20250219\n",
      "Processing prompt prompt-metadata for document bpt6k15110748 using model anthropic:claude-3-7-sonnet-20250219\n",
      "Processing prompt prompt-excerpt for document bpt6k15110748 using model anthropic:claude-3-7-sonnet-20250219\n"
     ]
    }
   ],
   "source": [
    "llm_responses = []\n",
    "llm_responses_path = Path('../data/llm_responses')\n",
    "\n",
    "models = [\n",
    "    #\"ollama:deepseek-r1:8b\",\n",
    "    #\"ollama:llama:3.3:latest\",\n",
    "    \"deepseek:deepseek-reasoner\",\n",
    "    \"anthropic:claude-3-7-sonnet-20250219\",\n",
    "    #\"ollama:llama3.2:latest\",\n",
    "    #\"ollama:gemma2:9b\",\n",
    "    #\"ollama:phi4:latest\"\n",
    "]\n",
    "\n",
    "for model in models:\n",
    "    llm_responses += query_llm(model, llm_requests[:3], llm_responses_path)\n",
    "\n",
    "serialize_llm_responses(llm_responses, Path(llm_responses_path))"
   ]
  },
  {
   "cell_type": "code",
   "execution_count": 28,
   "metadata": {},
   "outputs": [
    {
     "name": "stdout",
     "output_type": "stream",
     "text": [
      "Model: anthropic:claude-3-7-sonnet-20250219; Prompt: Look at the following JSON object describing a theatre play in French (XVII century); the `metadata` property contains basic information about the play (author, title, publication date), while the `context` property contains information about the people and places that are most frequently mentioned in the play (such as label, mention frequency, and salient sentences where it appears).\n",
      "\n",
      "INPUT:\n",
      "```json\n",
      "{\n",
      "  \"metadata\": {\n",
      "    \"author\": \"Tristan L'Hermite\",\n",
      "    \"title\": \"Panthée, tragédie de M. de Tristan\",\n",
      "    \"publication_date\": \"1639\",\n",
      "    \"document_id\": \"bpt6k15110748\"\n",
      "  },\n",
      "  \"context\": {\n",
      "    \"people\": {\n",
      "      \"top_1_person\": {\n",
      "        \"entity\": {\n",
      "          \"label\": \"CYRUS\",\n",
      "          \"frequency\": 3\n",
      "        },\n",
      "        \"related_sentences\": [\n",
      "          \"PANTHÉE\\n Seigneur, votre bonté s'est acquise Abradate J'ai dépêché des miens pour lui faire savoir Qu'elles sont vos vertus, et quel est son devoir: S'il n'a changé d'esprit j'ose bien me promettre Qu'il viendra vous trouver ayant reçu ma lettre, Et qu'il vous servira s'il est autant heureux en alitours qre paeut et gencren: \\nCYRUS\\n Madame, notre n'ai point mérité cette grâce.\",\n",
      "          \"Charis apprend de lui sa passion, essaie de le guérir par la raison: et le plaint voyant sa maladie incurable. \\nPANTHÉE\\n EITI AE TRIRIEDIE ICTEFREMIÈR SCÈNE IREMIÈRE. \\nCYRUS\\n \\nCHRISANTE\\n HYDASPE. \\nCYRUS\\n HRISANTE, ils sont défaits, et c'est notre destin De revenir chargés d'honneur et de butin, Apres avoir dompté cette injuste Puissance Qui veut insolemment opprimer l'innocence.\",\n",
      "          \"JRUS\\n Cet acte, sans mentir, fait horreur et pitié, Un moindre coup peut rompre une grande amitié: J'ai su d'vn Gouverneur d'une de ces Provinces, Qu'on le pourrait compter entre les mauvais Princes. \\nPANTHÉE\\n It me aome à peu pres que est ec Gounerneur \\nCYRUS\\n C'est un père affligé: \\nPANTHÉE\\n \",\n",
      "          \"Carpuisqu'on doit aimer enomeun prus quejà cte, \\nCYRUS\\n Madame, les honneurs dont il me va chargeant Font voir en ce papier qu'il est fort obligeant, Par ses grands compliments il ma voulu confondre, À ces civilités après ne saurais répondre: Mais si pour le servir ainsi suis assez puissant, Il ne me tiendra pas pour un méconnaissant:\",\n",
      "          \"Sans doute votre esprit qui n'a point de défaut, Le loue avec excès, en le mettant si haut. \\nPANTHÉE\\n Cyrus m'a fait faveur, mais ainsi lui rends iustice, Quand j'atteste qu'il est inaccesible au vice, Et qu'on peut l'élever entre les immortels, Onis grareros certus mermem u Tels:\"\n",
      "        ]\n",
      "      },\n",
      "      \"top_5_persons\": [\n",
      "        \"CYRUS\",\n",
      "        \"Cirus\",\n",
      "        \"Cyrus\",\n",
      "        \"Seigneur\",\n",
      "        \"Charis\"\n",
      "      ]\n",
      "    },\n",
      "    \"places\": {\n",
      "      \"top_1_place\": {\n",
      "        \"entity\": {\n",
      "          \"label\": \"Paris\",\n",
      "          \"frequency\": 3\n",
      "        },\n",
      "        \"related_sentences\": [\n",
      "          \"Notre bien amé Augustin Courbé Libraire à Paris, nous a fait remontrer qu'il désirerait imprimer, Une Tragédie intitulée, Panthée, composée par le Sieur de Tristanl'Hermite, S'il avait sur ce nos Lettres nécessaires, lesquelles ils nous a très humblement supplié de leurs accorder: À CES CAUSES, Nous avons permis et permettons à l'exposant d'imprimer, vendre, et débiter en tous les lieux de notre obéissance ladite Tragédie, en telles marges, en tels caractères, etautant de fois qu'il voudra, durant l'espace de sept ans entiers et accomplis;\",\n",
      "          \"Donné à Paris le vingt troisième de Février l'an de grâce mil six cents trente huit Et de notre règne le vingt-huictiême.\",\n",
      "          \"Donné à Paris le vingt troisième de Février l'an de grâce mil six cents trente huit Et de notre règne le vingt-huictiême.\"\n",
      "        ]\n",
      "      },\n",
      "      \"top_5_places\": [\n",
      "        \"Paris\",\n",
      "        \"Babylone\",\n",
      "        \"Perse\",\n",
      "        \"Théâtre du Marais\",\n",
      "        \"France\"\n",
      "      ]\n",
      "    }\n",
      "  }\n",
      "}\n",
      "```\n",
      "\n",
      "Your role is to predict the location and historical period in which the action of the play is set. \n",
      "\n",
      "KEY RULES:\n",
      "- Predict the timespan and not the precise and exact date of the period where the play could have taken place\n",
      "- Do not write an introduction or summary \n",
      "- The response must contain only valid JSON\n",
      "- The values in the JSON \"timeframe_start\" and \"timeframe_end\" should always be a single valid ISO date in the form YYYY-MM-DD\n",
      "- if the provided information is not sufficient to determine historical period and/or location, the following values can be set to `None`: `period`, `timeframe_start`, `timeframe_end`, `location`, `location_qid`\n",
      "\n",
      "Return your response and the underlying reasoning as a JSON object with the following structure:\n",
      "```json\n",
      "{\n",
      "    \"period\": \"The historical period in which the play could have taken place\",\n",
      "    \"period_reasoning\": \"The reasoning the model used to identify the historical period\",\n",
      "    \"timeframe_start\": \"The ISO-formatted start value of the historical period\",\n",
      "    \"timeframe_end\": \"The ISO-formatted start value of the historical period\",\n",
      "    \"location\": \"The geographic location where the action of the play takes place\",\n",
      "    \"location_reasoning\": \"The reasoning the model used to identify the geographic location\",\n",
      "    \"location_qid\": \"The Wikidata QID of the identified location\"\n",
      "}\n",
      "```\n",
      "Response: ```json\n",
      "{\n",
      "    \"period\": \"Ancient Persian Empire (Achaemenid Dynasty)\",\n",
      "    \"period_reasoning\": \"The play prominently features Cyrus, who appears to be a ruler or prince (as referred to as 'Seigneur' and discussed with respect to governing provinces). This most likely refers to Cyrus the Great, founder of the Achaemenid Empire. The presence of characters like Panthée, Abradate, and references to Persian rulers indicates the setting is ancient Persia during Cyrus's reign.\",\n",
      "    \"timeframe_start\": \"0559-01-01\",\n",
      "    \"timeframe_end\": \"0530-01-01\",\n",
      "    \"location\": \"Persia (Ancient Persian Empire)\",\n",
      "    \"location_reasoning\": \"Among the top 5 places mentioned are 'Perse' (Persia) and 'Babylone' (Babylon). Cyrus appears as a central character who is engaged in warfare and governance. The references to provinces, rulers, and Persian names strongly suggest the setting is the Persian Empire. Babylon was conquered by Cyrus the Great, and the narrative seems to take place during his military campaigns and rule over the expanding Persian Empire.\",\n",
      "    \"location_qid\": \"Q47246\"\n",
      "}\n",
      "```\n",
      "Model: anthropic:claude-3-7-sonnet-20250219; Prompt: Look at the following JSON object describing a theatre play in French (XVII century); the `metadata` property contains basic information about the play (author, title, publication date).\n",
      "\n",
      "INPUT:\n",
      "```json\n",
      "{\n",
      "  \"metadata\": {\n",
      "    \"author\": \"Tristan L'Hermite\",\n",
      "    \"title\": \"Panthée, tragédie de M. de Tristan\",\n",
      "    \"publication_date\": \"1639\",\n",
      "    \"document_id\": \"bpt6k15110748\"\n",
      "  }\n",
      "}\n",
      "```\n",
      "\n",
      "Your role is to predict the location and historical period in which the action of the play is set. \n",
      "\n",
      "KEY RULES:\n",
      "- Predict the timespan and not the precise and exact date of the period where the play could have taken place\n",
      "- Do not write an introduction or summary \n",
      "- The response must contain only valid JSON\n",
      "- The values in the JSON \"timeframe_start\" and \"timeframe_end\" should always be a single valid ISO date in the form YYYY-MM-DD\n",
      "- if the provided information is not sufficient to determine historical period and/or location, the following values can be set to `None`: `period`, `timeframe_start`, `timeframe_end`, `location`, `location_qid`\n",
      "\n",
      "Return your response and the underlying reasoning as a JSON object with the following structure:\n",
      "```json\n",
      "{\n",
      "    \"period\": \"The historical period in which the play could have taken place\",\n",
      "    \"period_reasoning\": \"The reasoning the model used to identify the historical period\",\n",
      "    \"timeframe_start\": \"The ISO-formatted start value of the historical period\",\n",
      "    \"timeframe_end\": \"The ISO-formatted start value of the historical period\",\n",
      "    \"location\": \"The geographic location where the action of the play takes place\",\n",
      "    \"location_reasoning\": \"The reasoning the model used to identify the geographic location\",\n",
      "    \"location_qid\": \"The Wikidata QID of the identified location\"\n",
      "}\n",
      "```\n",
      "Response: ```json\n",
      "{\n",
      "    \"period\": \"Antiquity, Achaemenid Empire\",\n",
      "    \"period_reasoning\": \"Panthée is likely based on the story of Panthea, a figure from ancient Persian history mentioned in Xenophon's 'Cyropaedia'. The story takes place during the rise of the Achaemenid Empire under Cyrus the Great, around the 6th century BCE.\",\n",
      "    \"timeframe_start\": \"0550-01-01\",\n",
      "    \"timeframe_end\": \"0530-01-01\",\n",
      "    \"location\": \"Ancient Persia (modern-day Iran)\",\n",
      "    \"location_reasoning\": \"The story of Panthea takes place in the Persian Empire during the reign of Cyrus the Great. The historical Panthea was the wife of Abradatas, king of Susa, who became a subject of Cyrus. The events would have taken place in the territory of ancient Persia.\",\n",
      "    \"location_qid\": \"Q794\"\n",
      "}\n",
      "```\n",
      "Model: anthropic:claude-3-7-sonnet-20250219; Prompt: Look at the following JSON object describing a theatre play in French (XVII century); the `metadata` property contains basic information about the play (author, title, publication date), while the `excerpt` property contains an excerpt of 400 words sampled from around the middle of the document.\n",
      "\n",
      "INPUT:\n",
      "```json\n",
      "{\n",
      "  \"metadata\": {\n",
      "    \"author\": \"Tristan L'Hermite\",\n",
      "    \"title\": \"Panthée, tragédie de M. de Tristan\",\n",
      "    \"publication_date\": \"1639\",\n",
      "    \"document_id\": \"bpt6k15110748\"\n",
      "  },\n",
      "  \"excerpt\": \"u'on n'a point vu qu'en expiant mon crime T'offrisse à son Autel une indigne Victime, Et que voyant venir le coup de mon trépas, Je n'ai rien témoigné de faible ainsi de bas. Despein-lui ma constance, et la mets en son lustre; Jure avait que mon âme, était une âme illustre, Et que dès le moment que j'entrai sous sa loi, J'eus l'esprit, le courage, et la grandeur d'un Roi. Elle n'est point de marbr\"\n",
      "}\n",
      "```\n",
      "\n",
      "Your role is to predict the location and historical period in which the action of the play is set. \n",
      "\n",
      "KEY RULES:\n",
      "- Predict the timespan and not the precise and exact date of the period where the play could have taken place\n",
      "- Do not write an introduction or summary \n",
      "- The response must contain only valid JSON\n",
      "- The values in the JSON \"timeframe_start\" and \"timeframe_end\" should always be a single valid ISO date in the form YYYY-MM-DD\n",
      "- if the provided information is not sufficient to determine historical period and/or location, the following values can be set to `None`: `period`, `timeframe_start`, `timeframe_end`, `location`, `location_qid`\n",
      "\n",
      "Return your response and the underlying reasoning as a JSON object with the following structure:\n",
      "```json\n",
      "{\n",
      "    \"period\": \"The historical period in which the play could have taken place\",\n",
      "    \"period_reasoning\": \"The reasoning the model used to identify the historical period\",\n",
      "    \"timeframe_start\": \"The ISO-formatted start value of the historical period\",\n",
      "    \"timeframe_end\": \"The ISO-formatted start value of the historical period\",\n",
      "    \"location\": \"The geographic location where the action of the play takes place\",\n",
      "    \"location_reasoning\": \"The reasoning the model used to identify the geographic location\",\n",
      "    \"location_qid\": \"The Wikidata QID of the identified location\"\n",
      "}\n",
      "```\n",
      "Response: ```json\n",
      "{\n",
      "    \"period\": \"Ancient Greece or Persia\",\n",
      "    \"period_reasoning\": \"The excerpt mentions a character with a royal status ('the grandeur of a King'). The title 'Panthée' refers to Panthea, a figure from ancient Persian history mentioned in Xenophon's Cyropaedia. This suggests the play is set during the time of the Achaemenid Empire in ancient Persia.\",\n",
      "    \"timeframe_start\": \"0550-01-01\",\n",
      "    \"timeframe_end\": \"0330-01-01\",\n",
      "    \"location\": \"Ancient Persia (Achaemenid Empire)\",\n",
      "    \"location_reasoning\": \"The play is titled 'Panthée', which likely refers to Panthea, the wife of Abradatas who was captured by Cyrus the Great of Persia. This story is known from Xenophon's Cyropaedia and takes place in ancient Persia during the Achaemenid Empire period.\",\n",
      "    \"location_qid\": \"Q47246\"\n",
      "}\n",
      "```\n"
     ]
    }
   ],
   "source": [
    "for r in llm_responses:\n",
    "    print(f'Model: {r.model_name}; Prompt: {r.prompt}')\n",
    "    print(f'Response: {r.response}')"
   ]
  },
  {
   "cell_type": "markdown",
   "metadata": {},
   "source": [
    "## `astropy` detour"
   ]
  },
  {
   "cell_type": "code",
   "execution_count": 148,
   "metadata": {},
   "outputs": [],
   "source": [
    "import numpy as np\n",
    "from astropy.time import Time"
   ]
  },
  {
   "cell_type": "code",
   "execution_count": 240,
   "metadata": {},
   "outputs": [],
   "source": [
    "Range = namedtuple('Range', ['start', 'end'])"
   ]
  },
  {
   "cell_type": "code",
   "execution_count": 199,
   "metadata": {},
   "outputs": [],
   "source": [
    "r1 = Range(start=Time(-480, format='jyear'), end=Time(-430, format='jyear'))"
   ]
  },
  {
   "cell_type": "code",
   "execution_count": 244,
   "metadata": {},
   "outputs": [],
   "source": [
    "r2 = Range(start=Time(-300, format='jyear'), end=Time(210, format='jyear'))"
   ]
  },
  {
   "cell_type": "code",
   "execution_count": 245,
   "metadata": {},
   "outputs": [],
   "source": [
    "latest_start = max(r1.start, r2.start)\n",
    "earliest_end = min(r1.end, r2.end)\n",
    "delta = (earliest_end - latest_start)"
   ]
  },
  {
   "cell_type": "code",
   "execution_count": 246,
   "metadata": {},
   "outputs": [
    {
     "data": {
      "text/plain": [
       "np.float64(-131.0)"
      ]
     },
     "execution_count": 246,
     "metadata": {},
     "output_type": "execute_result"
    }
   ],
   "source": [
    "delta.jd // 365"
   ]
  },
  {
   "cell_type": "code",
   "execution_count": 243,
   "metadata": {},
   "outputs": [
    {
     "data": {
      "text/plain": [
       "50"
      ]
     },
     "execution_count": 243,
     "metadata": {},
     "output_type": "execute_result"
    }
   ],
   "source": [
    "len(np.arange(r1.start.jd, r1.end.jd)) // 365"
   ]
  },
  {
   "cell_type": "code",
   "execution_count": 247,
   "metadata": {},
   "outputs": [
    {
     "data": {
      "text/plain": [
       "510"
      ]
     },
     "execution_count": 247,
     "metadata": {},
     "output_type": "execute_result"
    }
   ],
   "source": [
    "len(np.arange(r2.start.jd, r2.end.jd)) // 365"
   ]
  },
  {
   "cell_type": "markdown",
   "metadata": {},
   "source": [
    "## Querying LLMs with hand-picked documents"
   ]
  },
  {
   "cell_type": "markdown",
   "metadata": {},
   "source": [
    "- seed docs: find IDs of documents to process (n=5)\n",
    "- find all pre-gen prompts for the seed docs\n",
    "- query LLMs and serialize responses "
   ]
  },
  {
   "cell_type": "code",
   "execution_count": 5,
   "metadata": {},
   "outputs": [],
   "source": [
    "import random\n",
    "from typing import List, Dict, Tuple\n",
    "from pathlib import Path\n",
    "from textentlib.llm_utils import query_llm, serialize_llm_responses, LLMrequest, LLMresponse"
   ]
  },
  {
   "cell_type": "code",
   "execution_count": 6,
   "metadata": {},
   "outputs": [],
   "source": [
    "import aisuite as ai\n",
    "\n",
    "client = ai.Client()\n",
    "client.configure({\n",
    "  \"ollama\" : {\n",
    "    \"timeout\": 600,\n",
    "  }\n",
    "})"
   ]
  },
  {
   "cell_type": "code",
   "execution_count": null,
   "metadata": {},
   "outputs": [],
   "source": [
    "seed_document_ids = [\n",
    "    \"\n",
    "    \", # ancient greece\n",
    "    \"bpt6k852913n\", # early modern period\n",
    "    \"bpt6k1090242p\", # ancient rome\n",
    "    \"bpt6k5772699f\", # biblical times\n",
    "    \"bpt6k10901623\", # middle ages\n",
    "]"
   ]
  },
  {
   "cell_type": "code",
   "execution_count": 8,
   "metadata": {},
   "outputs": [],
   "source": [
    "def fetch_prompts(input_path: Path, keep_document_ids: List[str]) -> List[LLMrequest]:\n",
    "    \"\"\"\n",
    "    Fetches pre-generated prompts from the specified directory and returns a list of LLMrequest objects.\n",
    "\n",
    "    Args:\n",
    "        input_path (Path): The directory path where the prompts are located.\n",
    "        keep_document_ids (List[str]): A list of document IDs to filter which files to keep.\n",
    "\n",
    "    Returns:\n",
    "        List[LLMrequest]: A list of LLMrequest objects containing the prompt ID, document ID, file path, and prompt text.\n",
    "    \"\"\"\n",
    "    requests = []\n",
    "    for file in input_path.glob(f\"*/*.txt\"):\n",
    "        doc_id, prompt_id = file.name.split('_')\n",
    "        if doc_id in keep_document_ids:\n",
    "            prompt = file.read_text()\n",
    "            requests.append(LLMrequest(prompt_id, doc_id, file, prompt))\n",
    "    return requests"
   ]
  },
  {
   "cell_type": "code",
   "execution_count": 9,
   "metadata": {},
   "outputs": [],
   "source": [
    "llm_requests = fetch_prompts(Path('../data/prompts/pregenerated'), seed_document_ids)"
   ]
  },
  {
   "cell_type": "code",
   "execution_count": 10,
   "metadata": {},
   "outputs": [
    {
     "data": {
      "text/plain": [
       "15"
      ]
     },
     "execution_count": 10,
     "metadata": {},
     "output_type": "execute_result"
    }
   ],
   "source": [
    "len(llm_requests)"
   ]
  },
  {
   "cell_type": "code",
   "execution_count": 11,
   "metadata": {},
   "outputs": [
    {
     "data": {
      "text/plain": [
       "[LLMrequest(prompt_id='prompt-excerpt.txt', document_id='bpt6k10901623', prompt_path=PosixPath('../data/prompts/pregenerated/bpt6k10901623/bpt6k10901623_prompt-excerpt.txt'), prompt='Look at the following JSON object describing a theatre play in French (XVII century); the `metadata` property contains basic information about the play (author, title, publication date), while the `excerpt` property contains an excerpt of 400 words sampled from around the middle of the document.\\n\\nINPUT:\\n```json\\n{\\n  \"metadata\": {\\n    \"author\": \"Boisrobert, François de\",\\n    \"title\": \"Théodore, Reyne de Hongrie, tragi-comédie\",\\n    \"publication_date\": \"1658\",\\n    \"document_id\": \"bpt6k10901623\"\\n  },\\n  \"excerpt\": \"re; Oui j\\'ai pitié de vous, Prince, et je vous promets, Si vous vous repentez, de n\\'y penser jamais, Je me reprocherai cette ardeur enragée, Comme si on l\\'avais bizarrement songée, Revenez donc à vous, ouvrez, ouurez les yeux, Et voyez où vous porte un désir furieux, Seriez-vous pas perdu si le Roi qui vous aime, Pouvait être averti de ce désordre extrême, Savez-vous qui ie suis, me connaissez-vou\"\\n}\\n```\\n\\nYour role is to predict the location and historical period in which the action of the play is set. \\n\\nKEY RULES:\\n- Predict the timespan and not the precise and exact date of the period where the play could have taken place\\n- Do not write an introduction or summary \\n- The response must contain only valid JSON\\n- The values in the JSON \"timeframe_start\" and \"timeframe_end\" should always be a single valid date in the form [±Y]YYYY; negative values should be used for years before common era B.C.E. (e.g. `300 B.C.` should be represented as `-300`)\\n- if the provided information is not sufficient to determine historical period and/or location, the following values can be set to `None`: `period`, `timeframe_start`, `timeframe_end`, `location`, `location_qid`\\n\\nReturn your response and the underlying reasoning as a JSON object with the following structure:\\n```json\\n{\\n    \"period\": \"The historical period in which the play could have taken place\",\\n    \"period_reasoning\": \"The reasoning the model used to identify the historical period\",\\n    \"timeframe_start\": \"The start value of the historical period, formatted as [±Y]YYYY\",\\n    \"timeframe_end\": \"The end value of the historical period, formatted as [±Y]YYYY\",\\n    \"location\": \"The geographic location where the action of the play takes place\",\\n    \"location_reasoning\": \"The reasoning the model used to identify the geographic location\",\\n    \"location_qid\": \"The Wikidata QID of the identified location\"\\n}\\n```'),\n",
       " LLMrequest(prompt_id='prompt-metadata.txt', document_id='bpt6k10901623', prompt_path=PosixPath('../data/prompts/pregenerated/bpt6k10901623/bpt6k10901623_prompt-metadata.txt'), prompt='Look at the following JSON object describing a theatre play in French (XVII century); the `metadata` property contains basic information about the play (author, title, publication date).\\n\\nINPUT:\\n```json\\n{\\n  \"metadata\": {\\n    \"author\": \"Boisrobert, François de\",\\n    \"title\": \"Théodore, Reyne de Hongrie, tragi-comédie\",\\n    \"publication_date\": \"1658\",\\n    \"document_id\": \"bpt6k10901623\"\\n  }\\n}\\n```\\n\\nYour role is to predict the location and historical period in which the action of the play is set. \\n\\nKEY RULES:\\n- Predict the timespan and not the precise and exact date of the period where the play could have taken place\\n- Do not write an introduction or summary \\n- The response must contain only valid JSON\\n- The values in the JSON \"timeframe_start\" and \"timeframe_end\" should always be a single valid date in the form [±Y]YYYY; negative values should be used for years before common era B.C.E. (e.g. `300 B.C.` should be represented as `-300`)\\n- if the provided information is not sufficient to determine historical period and/or location, the following values can be set to `None`: `period`, `timeframe_start`, `timeframe_end`, `location`, `location_qid`\\n\\nReturn your response and the underlying reasoning as a JSON object with the following structure:\\n```json\\n{\\n    \"period\": \"The historical period in which the play could have taken place\",\\n    \"period_reasoning\": \"The reasoning the model used to identify the historical period\",\\n    \"timeframe_start\": \"The start value of the historical period, formatted as [±Y]YYYY\",\\n    \"timeframe_end\": \"The end value of the historical period, formatted as [±Y]YYYY\",\\n    \"location\": \"The geographic location where the action of the play takes place\",\\n    \"location_reasoning\": \"The reasoning the model used to identify the geographic location\",\\n    \"location_qid\": \"The Wikidata QID of the identified location\"\\n}\\n```'),\n",
       " LLMrequest(prompt_id='prompt-summary.txt', document_id='bpt6k10901623', prompt_path=PosixPath('../data/prompts/pregenerated/bpt6k10901623/bpt6k10901623_prompt-summary.txt'), prompt='Look at the following JSON object describing a theatre play in French (XVII century); the `metadata` property contains basic information about the play (author, title, publication date), while the `context` property contains information about the people and places that are most frequently mentioned in the play (such as label, mention frequency, and salient sentences where it appears).\\n\\nINPUT:\\n```json\\n{\\n  \"metadata\": {\\n    \"author\": \"Boisrobert, François de\",\\n    \"title\": \"Théodore, Reyne de Hongrie, tragi-comédie\",\\n    \"publication_date\": \"1658\",\\n    \"document_id\": \"bpt6k10901623\"\\n  },\\n  \"context\": {\\n    \"people\": {\\n      \"top_1_person\": {\\n        \"entity\": {\\n          \"label\": \"RAMÉE\",\\n          \"frequency\": 1\\n        },\\n        \"related_sentences\": [\\n          \"Me voyant emporté tu pouvais m\\'écouter, Mais tu ne devais pas si vite exécuter, colère aueugle, aueuglement suiuie, Me va coûter honneur, le repos et la vie, serviteur fidèle agit plus prudemment, \\\\nRAMÉE\\\\n Vous voulez qu\\'on vous serve en tout aveuglément : Je voyais bien, Seigneur, que votre ordre était Jude, Mais tu craignais l\\'effet de votre promptitude, J\\'en ai vu dans la Cour l\\'exemple dangereux, J\\'ai vu périr des Grands, tu me règle par eux, LE ROY.\",\\n          \"LE ROY Cet ordre est surprenant, il est grand, il t\\'étonne, Mais, Ramèse, en un mot il faut l\\'exécuter, De ta fidélité Seigneur ne saurais douter, Va, lcrime est connu, \\'ai tout su de mon frère, La Reylie a dals son tœur commis un Adultère, Elle est digne de mort, va donc de ce pas, Exécuter mon ordre et ne réplique pas. \\\\nRAMÉE\\\\n J\\'obéirai Seigneur, LE ROY.\",\\n          \"Puis que ta main trop prompte a suivi ma pensée, Condamnons seulement celui qui l\\'a poussée, Tu suis un ordre injuste, et j\\'excuse ton bras, Mais, traître que je suis, tu ne m\\'excuse pas, Een le me parvome un coup n\\'étable. \\\\nRAMÉE\\\\n \",\\n          \"que m\\'apprendstu? \\\\nRAMÉE\\\\n u’on fait un double outrage à la même vertu, J\\'ai peur que ce récit, Seigneur, ne vous accable, 4 Vous voyez que ici tremble au seul nom du cou.\",\\n          \"Cette lettre est du Prince, \\\\nRAMÉE\\\\n Elle est du suborneur: Comme il a vainement attaqué son honneur, Elle l\\'a menacé, mais il l\\'a prévenue, Sans songer que sa lettre un jour serait connue;\"\\n        ]\\n      },\\n      \"top_5_persons\": [\\n        \"RAMÉE\",\\n        \"Irene\",\\n        \"Irene\",\\n        \"Théodore\",\\n        \"Irène\"\\n      ]\\n    },\\n    \"places\": {\\n      \"top_1_place\": {\\n        \"entity\": {\\n          \"label\": \"Asie\",\\n          \"frequency\": 1\\n        },\\n        \"related_sentences\": [\\n          \"ennemis défaits attendent du secours, Mais pour le repos de nos jours, Amurat est-pressé de passer en Asie, Je ne crains donc plus rien de l\\'armée ennemie.\"\\n        ]\\n      },\\n      \"top_5_places\": [\\n        \"Asie\",\\n        \"Moni\",\\n        \"Jap\"\\n      ]\\n    }\\n  }\\n}\\n```\\n\\nYour role is to predict the location and historical period in which the action of the play is set. \\n\\nKEY RULES:\\n- Predict the timespan and not the precise and exact date of the period where the play could have taken place\\n- Do not write an introduction or summary \\n- The response must contain only valid JSON\\n- The values in the JSON \"timeframe_start\" and \"timeframe_end\" should always be a single valid date in the form [±Y]YYYY; negative values should be used for years before common era B.C.E. (e.g. `300 B.C.` should be represented as `-300`)\\n- if the provided information is not sufficient to determine historical period and/or location, the following values can be set to `None`: `period`, `timeframe_start`, `timeframe_end`, `location`, `location_qid`\\n\\nReturn your response and the underlying reasoning as a JSON object with the following structure:\\n```json\\n{\\n    \"period\": \"The historical period in which the play could have taken place\",\\n    \"period_reasoning\": \"The reasoning the model used to identify the historical period\",\\n    \"timeframe_start\": \"The start value of the historical period, formatted as [±Y]YYYY\",\\n    \"timeframe_end\": \"The end value of the historical period, formatted as [±Y]YYYY\",\\n    \"location\": \"The geographic location where the action of the play takes place\",\\n    \"location_reasoning\": \"The reasoning the model used to identify the geographic location\",\\n    \"location_qid\": \"The Wikidata QID of the identified location\"\\n}\\n```'),\n",
       " LLMrequest(prompt_id='prompt-excerpt.txt', document_id='bpt6k1090242p', prompt_path=PosixPath('../data/prompts/pregenerated/bpt6k1090242p/bpt6k1090242p_prompt-excerpt.txt'), prompt='Look at the following JSON object describing a theatre play in French (XVII century); the `metadata` property contains basic information about the play (author, title, publication date), while the `excerpt` property contains an excerpt of 400 words sampled from around the middle of the document.\\n\\nINPUT:\\n```json\\n{\\n  \"metadata\": {\\n    \"author\": null,\\n    \"title\": \"Tite et Titus, ou Critique sur les Berenices, comédie\",\\n    \"publication_date\": \"1673\",\\n    \"document_id\": \"bpt6k1090242p\"\\n  },\\n  \"excerpt\": \" pas fort extraordinaist buser une fille souz promesse de mariage. On voit plus d\\'un moqueur Enée, Et plus d\\'une folle Didon Couvrer les feux de Cupidon Souz les cendres de L\\'hyménée. Voici quelque chose déplus étrange; il n\\'est rien de si touchant ainsi de si tendre que les choses qu\\'il dir il sa Berenice dans cette occalion, il semble tout à coup qu\\'il va expirer d\\'amour pour elle, enfin il est \"\\n}\\n```\\n\\nYour role is to predict the location and historical period in which the action of the play is set. \\n\\nKEY RULES:\\n- Predict the timespan and not the precise and exact date of the period where the play could have taken place\\n- Do not write an introduction or summary \\n- The response must contain only valid JSON\\n- The values in the JSON \"timeframe_start\" and \"timeframe_end\" should always be a single valid date in the form [±Y]YYYY; negative values should be used for years before common era B.C.E. (e.g. `300 B.C.` should be represented as `-300`)\\n- if the provided information is not sufficient to determine historical period and/or location, the following values can be set to `None`: `period`, `timeframe_start`, `timeframe_end`, `location`, `location_qid`\\n\\nReturn your response and the underlying reasoning as a JSON object with the following structure:\\n```json\\n{\\n    \"period\": \"The historical period in which the play could have taken place\",\\n    \"period_reasoning\": \"The reasoning the model used to identify the historical period\",\\n    \"timeframe_start\": \"The start value of the historical period, formatted as [±Y]YYYY\",\\n    \"timeframe_end\": \"The end value of the historical period, formatted as [±Y]YYYY\",\\n    \"location\": \"The geographic location where the action of the play takes place\",\\n    \"location_reasoning\": \"The reasoning the model used to identify the geographic location\",\\n    \"location_qid\": \"The Wikidata QID of the identified location\"\\n}\\n```'),\n",
       " LLMrequest(prompt_id='prompt-metadata.txt', document_id='bpt6k1090242p', prompt_path=PosixPath('../data/prompts/pregenerated/bpt6k1090242p/bpt6k1090242p_prompt-metadata.txt'), prompt='Look at the following JSON object describing a theatre play in French (XVII century); the `metadata` property contains basic information about the play (author, title, publication date).\\n\\nINPUT:\\n```json\\n{\\n  \"metadata\": {\\n    \"author\": null,\\n    \"title\": \"Tite et Titus, ou Critique sur les Berenices, comédie\",\\n    \"publication_date\": \"1673\",\\n    \"document_id\": \"bpt6k1090242p\"\\n  }\\n}\\n```\\n\\nYour role is to predict the location and historical period in which the action of the play is set. \\n\\nKEY RULES:\\n- Predict the timespan and not the precise and exact date of the period where the play could have taken place\\n- Do not write an introduction or summary \\n- The response must contain only valid JSON\\n- The values in the JSON \"timeframe_start\" and \"timeframe_end\" should always be a single valid date in the form [±Y]YYYY; negative values should be used for years before common era B.C.E. (e.g. `300 B.C.` should be represented as `-300`)\\n- if the provided information is not sufficient to determine historical period and/or location, the following values can be set to `None`: `period`, `timeframe_start`, `timeframe_end`, `location`, `location_qid`\\n\\nReturn your response and the underlying reasoning as a JSON object with the following structure:\\n```json\\n{\\n    \"period\": \"The historical period in which the play could have taken place\",\\n    \"period_reasoning\": \"The reasoning the model used to identify the historical period\",\\n    \"timeframe_start\": \"The start value of the historical period, formatted as [±Y]YYYY\",\\n    \"timeframe_end\": \"The end value of the historical period, formatted as [±Y]YYYY\",\\n    \"location\": \"The geographic location where the action of the play takes place\",\\n    \"location_reasoning\": \"The reasoning the model used to identify the geographic location\",\\n    \"location_qid\": \"The Wikidata QID of the identified location\"\\n}\\n```'),\n",
       " LLMrequest(prompt_id='prompt-summary.txt', document_id='bpt6k1090242p', prompt_path=PosixPath('../data/prompts/pregenerated/bpt6k1090242p/bpt6k1090242p_prompt-summary.txt'), prompt='Look at the following JSON object describing a theatre play in French (XVII century); the `metadata` property contains basic information about the play (author, title, publication date), while the `context` property contains information about the people and places that are most frequently mentioned in the play (such as label, mention frequency, and salient sentences where it appears).\\n\\nINPUT:\\n```json\\n{\\n  \"metadata\": {\\n    \"author\": null,\\n    \"title\": \"Tite et Titus, ou Critique sur les Berenices, comédie\",\\n    \"publication_date\": \"1673\",\\n    \"document_id\": \"bpt6k1090242p\"\\n  },\\n  \"context\": {\\n    \"people\": {\\n      \"top_1_person\": {\\n        \"entity\": {\\n          \"label\": \"THALIE\",\\n          \"frequency\": 5\\n        },\\n        \"related_sentences\": [\\n          \"Oui sans doute, savante Nim hé, et si tous les entiments de Titus m\\'ont toujours servi de Loi, ors même que j\\'ai eu sujet de les trouver les lus injustes, il n\\'y a pas apparence que je le désaoue quand il m\\'en attribue d\\'aussi raisonnables que ceux -là. \\\\nTHALIE\\\\n J\\'ai bien de la joie, illustres Amants, de vous évoir dans un si bon accord, et tous ceux, que outre séparation avait si fort affligés, Jusques à les lire fondre en Larmes, seront bien consolez, and ils sauront votre bonne intelligence prêlen: vous vous étiez pourtant séparés avec assés de eremonie, et votre à dieu avait été asséz long, our tenir plus longtemps, et pour ne vous pas revIr si tôt.\",\\n          \"Il parait bien à vos discours, savante Nim que les grâces et les jeux ne vous abandonne mais, et l\\'obligeante raillerie, dont vous u accueillie, ne pouvait être assaisonnée pa main plus délicate aussi jo la reçois avec tos reconnaissance que méritent les civilités, et louanges d\\'une immortelle comme vous. \\\\nTHALIE\\\\n Vous venez à propos en ce pays, aimable l\\'ut cesse, et le sort vous y à sans doute conduite p\",\\n          \"En effet, ma sœur n\\'a pas raison de vous cette raillerie, mais il ne faut pas que cela vousfraie: épar, outre que tout céqu\\'elle dit n\\'est lesouvent que pour rire, élle est obligée de défe vos Ennemis ayant ordre d\\'Apollon de les pie ger, comme il m\\'a chargée de vous conduire TITUS à THALIE Aimable\",\\n          \", j\\'ai encore plus grand jet que Tite d\\'appréhender qu\\'on ne me prenne our une autre, et qu\\'on ne m\\'attribue bien des hoses, qui ne me conviennent pas. \\\\nTHALIE\\\\n C\\'en est assurés pour le présent, belle Princesse ous avés apparemament plus besoin de repos que de ascours;\",\\n          \"Thalie, il ne faut pas que cette inégalité vous surprenne, la différence que vous trouvez entre notre entretien et ceux que Titus vous à rappoitéz, est une suitte nécessaire de la différence des matières, il est bien aisé d\\'être clair dans un entretien familier comme celui cy ou l\\'on ne parle que\"\\n        ]\\n      },\\n      \"top_5_persons\": [\\n        \"THALIE\",\\n        \"Tite\",\\n        \"Titus\",\\n        \"Berenice\",\\n        \"Apollon\"\\n      ]\\n    },\\n    \"places\": {\\n      \"top_1_place\": {\\n        \"entity\": {\\n          \"label\": \"Parnasse\",\\n          \"frequency\": 5\\n        },\\n        \"related_sentences\": [\\n          \"Ces noms sont en vénération au Parnasse l\\'un a té le père du Théâtre Français et l\\'autre en est le burrislier, personne, ô Melpomene, ne le sait jeux que vous, mais passons outre, vous Tite mmancéz mais acte condition de ne dire précinent que ce qui sait contre Titus et ce que vous ouvez à redire en lui etde ne dire point ce qui fait pour vous et ce qu\\'on peut vous objecter etcela re.\",\\n          \"c\\'est ainsi que Paris est devenu aujourd\\'aui le lieu du monde ou nous sommes en plus grande estime et les plus connue, aussi voyez vous qu\\'Apollon et nous ne parlons tous que Français, c\\'est jamais présent la langue du Parnasse et toute autre y est arbare, telle est la vicissitude des choses, mais j\\'apperçois, Aposson qui s\\'avance et vous allez et ugéz.\",\\n          \"c\\'est pourquoi abstenéz vous en soigneusement, si vous êtes sagé, quand vous retournerez en France, il sera permis à vous de reprendre votre jargon, puisqu\\'il y a des gens qu\\'en accommodent, mais tant que vous seréseréz au Parnasse, vivez selon la loi du pays.\",\\n          \"Ur fin qu\\'il en soit mémoire ôrmaise et pour empêcher que pareille chose ne puisse arriver à l\\'avenir, l est enioint à tous ceux qui gardent les entrées du Parnasse, qu\\'ils aient désormais ne laisser plus montrer personne de quelque qualité et condition que ce soit;\",\\n          \"soyer d les biens venus Princes, il ne vous rêle pluss nous dire de qui sont vos lettres d\\'adresse qui vous a donné passe port pour monter sur le Parnasse MELPOMENE.\"\\n        ]\\n      },\\n      \"top_5_places\": [\\n        \"Parnasse\",\\n        \"Rome\",\\n        \"France\",\\n        \"Bervie\",\\n        \"Carthage\"\\n      ]\\n    }\\n  }\\n}\\n```\\n\\nYour role is to predict the location and historical period in which the action of the play is set. \\n\\nKEY RULES:\\n- Predict the timespan and not the precise and exact date of the period where the play could have taken place\\n- Do not write an introduction or summary \\n- The response must contain only valid JSON\\n- The values in the JSON \"timeframe_start\" and \"timeframe_end\" should always be a single valid date in the form [±Y]YYYY; negative values should be used for years before common era B.C.E. (e.g. `300 B.C.` should be represented as `-300`)\\n- if the provided information is not sufficient to determine historical period and/or location, the following values can be set to `None`: `period`, `timeframe_start`, `timeframe_end`, `location`, `location_qid`\\n\\nReturn your response and the underlying reasoning as a JSON object with the following structure:\\n```json\\n{\\n    \"period\": \"The historical period in which the play could have taken place\",\\n    \"period_reasoning\": \"The reasoning the model used to identify the historical period\",\\n    \"timeframe_start\": \"The start value of the historical period, formatted as [±Y]YYYY\",\\n    \"timeframe_end\": \"The end value of the historical period, formatted as [±Y]YYYY\",\\n    \"location\": \"The geographic location where the action of the play takes place\",\\n    \"location_reasoning\": \"The reasoning the model used to identify the geographic location\",\\n    \"location_qid\": \"The Wikidata QID of the identified location\"\\n}\\n```'),\n",
       " LLMrequest(prompt_id='prompt-summary.txt', document_id='bpt6k852913n', prompt_path=PosixPath('../data/prompts/pregenerated/bpt6k852913n/bpt6k852913n_prompt-summary.txt'), prompt='Look at the following JSON object describing a theatre play in French (XVII century); the `metadata` property contains basic information about the play (author, title, publication date), while the `context` property contains information about the people and places that are most frequently mentioned in the play (such as label, mention frequency, and salient sentences where it appears).\\n\\nINPUT:\\n```json\\n{\\n  \"metadata\": {\\n    \"author\": \"Néel\",\\n    \"title\": \"L\\'illusion grotesque ou le point nécromancien, comédie / par M. Néel...\",\\n    \"publication_date\": \"1678\",\\n    \"document_id\": \"bpt6k852913n\"\\n  },\\n  \"context\": {\\n    \"people\": {\\n      \"top_1_person\": {\\n        \"entity\": {\\n          \"label\": \"Ormin\",\\n          \"frequency\": 2\\n        },\\n        \"related_sentences\": [\\n          \"Mais puis qu\\'il faut agir, agissons de concert, Et montrons qu\\'a plopos ce enaugemient nous sert5 La ruse en est subtile, et tout ce qui m\\'étonne C\\'est que Philandre encor de rien ne vous soupçonne, Et que toute l\\'intrigue est conduite à ce point Qu\\'il se voit presque pris, et ne le connaît point, \\\\nORMIN\\\\n Mais sachez que Crispin, comme j\\'ai pu l\\'instruire, En faisant le Devin a bien su se conduire, Et que par là Philandre est fort embarrassé Autant sur son hymen, que sur le temps passé.\",\\n          \"Quels devoirs nuit et jour le peuple me vient rendre, Et pour m\\'avoir déplu, combien j\\'en ai fait pendre? \\\\nORMIN\\\\n J\\'en ai dit encor plus afin de l\\'engager, Que tous vos sentiments n\\'allaient qu\\'à l\\'obliger;\",\\n          \"Oui, cela se peut faire aussi tôt qu\\'un Commis? \\\\nPHILANDRE\\\\n je veux uile en prenant un habillement gris. \\\\nORMIN\\\\n Et quel nom prendrez-vous? \\\\nPHILANDRE\\\\n Ou quelque autre à ton choix.\",\\n          \"\\\\nORMIN\\\\n Vous apprendrez que mon Maître Philandre, Qui se veut marier, ma fait malgré moi prendre Cette hient parure ce cet haait d\\'honneur, Pour être de ses vœux l\\'unique ambassadeur.\",\\n          \"Parle moi nettement, je veux que l\\'on s\\'explique, \\\\nORMIN\\\\n Un Savetier, Monsieur, parlant avec honheur, M\\'ayant montré de loin où votre Devineur Avait accoutumé de faire résidence.\"\\n        ]\\n      },\\n      \"top_5_persons\": [\\n        \"Ormin\",\\n        \"ARMINDE\",\\n        \"CRISPIN\",\\n        \"Beatrix\",\\n        \"Roselle\"\\n      ]\\n    },\\n    \"places\": {\\n      \"top_1_place\": {\\n        \"entity\": {\\n          \"label\": \"Senlis\",\\n          \"frequency\": 2\\n        },\\n        \"related_sentences\": [\\n          \"Elle voudrait déjà bien me tenir. \\\\nMASCARILLE\\\\n De grâce, Tant plus je m\\'étudie aux traits de votre face, E j Et plus je vois l\\'objet que j\\'ai vu dans Senlis Ne lésait-ce point vous ? \\\\nPHILANDRE\\\\n Non, mais bien à Paris Dedans le Luxembourg, et même aux Tuilleries, Je m\\'y suis signalé par mille batteries;\",\\n          \"J\\'arrive de Senlis pour épouser la fille, Tel que vous me voyez, de Monfieur Mascarille\"\\n        ]\\n      },\\n      \"top_5_places\": [\\n        \"Senlis\",\\n        \"Chalons en Champagne\",\\n        \"Paris\",\\n        \"Luxembourg\"\\n      ]\\n    }\\n  }\\n}\\n```\\n\\nYour role is to predict the location and historical period in which the action of the play is set. \\n\\nKEY RULES:\\n- Predict the timespan and not the precise and exact date of the period where the play could have taken place\\n- Do not write an introduction or summary \\n- The response must contain only valid JSON\\n- The values in the JSON \"timeframe_start\" and \"timeframe_end\" should always be a single valid date in the form [±Y]YYYY; negative values should be used for years before common era B.C.E. (e.g. `300 B.C.` should be represented as `-300`)\\n- if the provided information is not sufficient to determine historical period and/or location, the following values can be set to `None`: `period`, `timeframe_start`, `timeframe_end`, `location`, `location_qid`\\n\\nReturn your response and the underlying reasoning as a JSON object with the following structure:\\n```json\\n{\\n    \"period\": \"The historical period in which the play could have taken place\",\\n    \"period_reasoning\": \"The reasoning the model used to identify the historical period\",\\n    \"timeframe_start\": \"The start value of the historical period, formatted as [±Y]YYYY\",\\n    \"timeframe_end\": \"The end value of the historical period, formatted as [±Y]YYYY\",\\n    \"location\": \"The geographic location where the action of the play takes place\",\\n    \"location_reasoning\": \"The reasoning the model used to identify the geographic location\",\\n    \"location_qid\": \"The Wikidata QID of the identified location\"\\n}\\n```'),\n",
       " LLMrequest(prompt_id='prompt-metadata.txt', document_id='bpt6k852913n', prompt_path=PosixPath('../data/prompts/pregenerated/bpt6k852913n/bpt6k852913n_prompt-metadata.txt'), prompt='Look at the following JSON object describing a theatre play in French (XVII century); the `metadata` property contains basic information about the play (author, title, publication date).\\n\\nINPUT:\\n```json\\n{\\n  \"metadata\": {\\n    \"author\": \"Néel\",\\n    \"title\": \"L\\'illusion grotesque ou le point nécromancien, comédie / par M. Néel...\",\\n    \"publication_date\": \"1678\",\\n    \"document_id\": \"bpt6k852913n\"\\n  }\\n}\\n```\\n\\nYour role is to predict the location and historical period in which the action of the play is set. \\n\\nKEY RULES:\\n- Predict the timespan and not the precise and exact date of the period where the play could have taken place\\n- Do not write an introduction or summary \\n- The response must contain only valid JSON\\n- The values in the JSON \"timeframe_start\" and \"timeframe_end\" should always be a single valid date in the form [±Y]YYYY; negative values should be used for years before common era B.C.E. (e.g. `300 B.C.` should be represented as `-300`)\\n- if the provided information is not sufficient to determine historical period and/or location, the following values can be set to `None`: `period`, `timeframe_start`, `timeframe_end`, `location`, `location_qid`\\n\\nReturn your response and the underlying reasoning as a JSON object with the following structure:\\n```json\\n{\\n    \"period\": \"The historical period in which the play could have taken place\",\\n    \"period_reasoning\": \"The reasoning the model used to identify the historical period\",\\n    \"timeframe_start\": \"The start value of the historical period, formatted as [±Y]YYYY\",\\n    \"timeframe_end\": \"The end value of the historical period, formatted as [±Y]YYYY\",\\n    \"location\": \"The geographic location where the action of the play takes place\",\\n    \"location_reasoning\": \"The reasoning the model used to identify the geographic location\",\\n    \"location_qid\": \"The Wikidata QID of the identified location\"\\n}\\n```'),\n",
       " LLMrequest(prompt_id='prompt-excerpt.txt', document_id='bpt6k852913n', prompt_path=PosixPath('../data/prompts/pregenerated/bpt6k852913n/bpt6k852913n_prompt-excerpt.txt'), prompt='Look at the following JSON object describing a theatre play in French (XVII century); the `metadata` property contains basic information about the play (author, title, publication date), while the `excerpt` property contains an excerpt of 400 words sampled from around the middle of the document.\\n\\nINPUT:\\n```json\\n{\\n  \"metadata\": {\\n    \"author\": \"Néel\",\\n    \"title\": \"L\\'illusion grotesque ou le point nécromancien, comédie / par M. Néel...\",\\n    \"publication_date\": \"1678\",\\n    \"document_id\": \"bpt6k852913n\"\\n  },\\n  \"excerpt\": \"i, le voici qui s\\'avance; Qu\\'on nous laisse ici seuls. Ç ij SCÈNE III. PHIDADRE, IALEMON. \\\\nPHILANDRE\\\\n MOnseur, la connaissancs Que vous donne votre Ait des choses t ienir, Me fait vous consulter pour vous entretenir D\\'un scrupule importun dont la fin m\\'embarrasse. POLEMON. Il n\\'est rien que pour vous volontiers je ne fasse; Vous n\\'avez qu\\'à parler, et me prescrire en quoi Votre esprit inquiet veut\"\\n}\\n```\\n\\nYour role is to predict the location and historical period in which the action of the play is set. \\n\\nKEY RULES:\\n- Predict the timespan and not the precise and exact date of the period where the play could have taken place\\n- Do not write an introduction or summary \\n- The response must contain only valid JSON\\n- The values in the JSON \"timeframe_start\" and \"timeframe_end\" should always be a single valid date in the form [±Y]YYYY; negative values should be used for years before common era B.C.E. (e.g. `300 B.C.` should be represented as `-300`)\\n- if the provided information is not sufficient to determine historical period and/or location, the following values can be set to `None`: `period`, `timeframe_start`, `timeframe_end`, `location`, `location_qid`\\n\\nReturn your response and the underlying reasoning as a JSON object with the following structure:\\n```json\\n{\\n    \"period\": \"The historical period in which the play could have taken place\",\\n    \"period_reasoning\": \"The reasoning the model used to identify the historical period\",\\n    \"timeframe_start\": \"The start value of the historical period, formatted as [±Y]YYYY\",\\n    \"timeframe_end\": \"The end value of the historical period, formatted as [±Y]YYYY\",\\n    \"location\": \"The geographic location where the action of the play takes place\",\\n    \"location_reasoning\": \"The reasoning the model used to identify the geographic location\",\\n    \"location_qid\": \"The Wikidata QID of the identified location\"\\n}\\n```'),\n",
       " LLMrequest(prompt_id='prompt-summary.txt', document_id='bpt6k5772699f', prompt_path=PosixPath('../data/prompts/pregenerated/bpt6k5772699f/bpt6k5772699f_prompt-summary.txt'), prompt='Look at the following JSON object describing a theatre play in French (XVII century); the `metadata` property contains basic information about the play (author, title, publication date), while the `context` property contains information about the people and places that are most frequently mentioned in the play (such as label, mention frequency, and salient sentences where it appears).\\n\\nINPUT:\\n```json\\n{\\n  \"metadata\": {\\n    \"author\": \"Charenton, De\",\\n    \"title\": \"La mort de Baltazar, roy de Babilone , tragédie. Par le sieur de Charenton\",\\n    \"publication_date\": \"1662\",\\n    \"document_id\": \"bpt6k5772699f\"\\n  },\\n  \"context\": {\\n    \"people\": {\\n      \"top_1_person\": {\\n        \"entity\": {\\n          \"label\": \"Nabal\",\\n          \"frequency\": 3\\n        },\\n        \"related_sentences\": [\\n          \"Que votre bruit encor répond à votre audace, Que vous savez vanter ce qui n\\'est point de vous, Que votre humeur vous rend insupportable à rous, Que vous abusez trop du pouvoir qu\\'on vous donne, Que vous méconnaissez le sang de ma personne, Qu\\'en sin votre arrogance est venut à ce point Qu\\'un cœur comme le mien ne la sousfrira point, Qu\\'il faut à vos dépens. \\\\nNABAL\\\\n Ah, c\\'est trop vous entharé.\",\\n          \"Nsin par un malheur qui n\\'eût jamais d\\'égal, LI’de pour partie un Roi, mon amour et Nabal, Je me vois attaqué dans cetre dissérence, Que l\\'amour court au cœur, et laisse l\\'espérance, L\\'amour se sert de feux pour attaquer le cœur, Nabal par son crédit lui de sa douleur, Le Roi d\\'autorité répond à sa tristesse, Tous trois diversement causent ce qui me blesse, Que derermineray-je avec ce déplaisir?\",\\n          \"Nabal est sans défauts, homme dont les exploits Ont porté son mérite à s\\'égaller aux Rois, Il a foret cent sois, cent rempara, cent murailles, Combattu comme un Mars aumilieu des batailles, Fait redouter mon nom au bruit de ses combats, De Province en Province étendu mes Étars, Il doit à ce mérite et non à sa naissance, Son éclat et son rang qu\\'il tient pour recompence.\",\\n          \"Mais charmante beauré dans mon rigoureux sort, Malgré tous mes respects, Seigneur dois zaïre un éfort: Nabal dans son dessein m\\'oblige à me contraindre, M\\'oblige à vous parler, m\\'oblige A ne plus feindre: Il tire de mon cœur le secret de mes feux, Et pour le prévenir tu vous osefre mes vœux: Le met en est lâché, ma Divine Princesse, Mon cœur s\\'est découvert\",\\n          \". LE ROY, NAFAI naba caibe écectant par l\\'ordre du Ro LE ROY, As-tutont enten du \\\\nNABAL\\\\n Seigneur c\\'est ma douleur, J\\'apprends de son refus jusqu\\'où va mon malheur: Votre amitié combat, mais sa sierté l\\'emporte, Contre votre puissance elle devient plus forte, Et loin d\\'appréhender votre juste courroux, Se condamne elle -même à tomber sous ses coups.\"\\n        ]\\n      },\\n      \"top_5_persons\": [\\n        \"Nabal\",\\n        \"MISIA\",\\n        \"BALTAZAR\",\\n        \"Cyrus\",\\n        \"Arbas\"\\n      ]\\n    },\\n    \"places\": {\\n      \"top_1_place\": {\\n        \"entity\": {\\n          \"label\": \"Paris\",\\n          \"frequency\": 3\\n        },\\n        \"related_sentences\": [\\n          \"ledit Livre sans le consentement dudit Sieur de Charenton, à peine aux contrevenants de six mille livr ès d\\'amende, consiscation des exemplaires, et de tous dépens, dommages et intérêts, ainsi il est plus amplement porté par Priuilege Et ledit Sieur de Charenton a cédé nuant droict de Privilège à Nicolas Peingué et Jean Guignard fils, Marhands Libraires à Paris, pour en ouïr pendant ledit temps, suivant accordiaic entrait Entraient.\",\\n          \"Tout Paris admire que vous ne demeurez astachaît?  is Monde, que pour en être plus près, et pour lui communiquer vos assistances.\",\\n          \"grâce et Privilège du Roi donné à Paris\"\\n        ]\\n      },\\n      \"top_5_places\": [\\n        \"Paris\",\\n        \"PARIS\"\\n      ]\\n    }\\n  }\\n}\\n```\\n\\nYour role is to predict the location and historical period in which the action of the play is set. \\n\\nKEY RULES:\\n- Predict the timespan and not the precise and exact date of the period where the play could have taken place\\n- Do not write an introduction or summary \\n- The response must contain only valid JSON\\n- The values in the JSON \"timeframe_start\" and \"timeframe_end\" should always be a single valid date in the form [±Y]YYYY; negative values should be used for years before common era B.C.E. (e.g. `300 B.C.` should be represented as `-300`)\\n- if the provided information is not sufficient to determine historical period and/or location, the following values can be set to `None`: `period`, `timeframe_start`, `timeframe_end`, `location`, `location_qid`\\n\\nReturn your response and the underlying reasoning as a JSON object with the following structure:\\n```json\\n{\\n    \"period\": \"The historical period in which the play could have taken place\",\\n    \"period_reasoning\": \"The reasoning the model used to identify the historical period\",\\n    \"timeframe_start\": \"The start value of the historical period, formatted as [±Y]YYYY\",\\n    \"timeframe_end\": \"The end value of the historical period, formatted as [±Y]YYYY\",\\n    \"location\": \"The geographic location where the action of the play takes place\",\\n    \"location_reasoning\": \"The reasoning the model used to identify the geographic location\",\\n    \"location_qid\": \"The Wikidata QID of the identified location\"\\n}\\n```'),\n",
       " LLMrequest(prompt_id='prompt-metadata.txt', document_id='bpt6k5772699f', prompt_path=PosixPath('../data/prompts/pregenerated/bpt6k5772699f/bpt6k5772699f_prompt-metadata.txt'), prompt='Look at the following JSON object describing a theatre play in French (XVII century); the `metadata` property contains basic information about the play (author, title, publication date).\\n\\nINPUT:\\n```json\\n{\\n  \"metadata\": {\\n    \"author\": \"Charenton, De\",\\n    \"title\": \"La mort de Baltazar, roy de Babilone , tragédie. Par le sieur de Charenton\",\\n    \"publication_date\": \"1662\",\\n    \"document_id\": \"bpt6k5772699f\"\\n  }\\n}\\n```\\n\\nYour role is to predict the location and historical period in which the action of the play is set. \\n\\nKEY RULES:\\n- Predict the timespan and not the precise and exact date of the period where the play could have taken place\\n- Do not write an introduction or summary \\n- The response must contain only valid JSON\\n- The values in the JSON \"timeframe_start\" and \"timeframe_end\" should always be a single valid date in the form [±Y]YYYY; negative values should be used for years before common era B.C.E. (e.g. `300 B.C.` should be represented as `-300`)\\n- if the provided information is not sufficient to determine historical period and/or location, the following values can be set to `None`: `period`, `timeframe_start`, `timeframe_end`, `location`, `location_qid`\\n\\nReturn your response and the underlying reasoning as a JSON object with the following structure:\\n```json\\n{\\n    \"period\": \"The historical period in which the play could have taken place\",\\n    \"period_reasoning\": \"The reasoning the model used to identify the historical period\",\\n    \"timeframe_start\": \"The start value of the historical period, formatted as [±Y]YYYY\",\\n    \"timeframe_end\": \"The end value of the historical period, formatted as [±Y]YYYY\",\\n    \"location\": \"The geographic location where the action of the play takes place\",\\n    \"location_reasoning\": \"The reasoning the model used to identify the geographic location\",\\n    \"location_qid\": \"The Wikidata QID of the identified location\"\\n}\\n```'),\n",
       " LLMrequest(prompt_id='prompt-excerpt.txt', document_id='bpt6k5772699f', prompt_path=PosixPath('../data/prompts/pregenerated/bpt6k5772699f/bpt6k5772699f_prompt-excerpt.txt'), prompt='Look at the following JSON object describing a theatre play in French (XVII century); the `metadata` property contains basic information about the play (author, title, publication date), while the `excerpt` property contains an excerpt of 400 words sampled from around the middle of the document.\\n\\nINPUT:\\n```json\\n{\\n  \"metadata\": {\\n    \"author\": \"Charenton, De\",\\n    \"title\": \"La mort de Baltazar, roy de Babilone , tragédie. Par le sieur de Charenton\",\\n    \"publication_date\": \"1662\",\\n    \"document_id\": \"bpt6k5772699f\"\\n  },\\n  \"excerpt\": \"onge vous étonne, Une vapeur de nuit ne peut nuire à personne: Bannissez, bannissez cette vaine terreur, Qui cause votre crainte, et vous abat le cœur. Quel danger courons-nous dedans nos sorteresses? Lln dou A daus Celui d\\'être surpris pendant nos allégresses LE ROY. Quoi vous craignez Cyrus dans l\\'heure du festin? À l\\'abri de nos murs Seigneur brave le destin: Il faut pour gagner l\\'antre, il fau\"\\n}\\n```\\n\\nYour role is to predict the location and historical period in which the action of the play is set. \\n\\nKEY RULES:\\n- Predict the timespan and not the precise and exact date of the period where the play could have taken place\\n- Do not write an introduction or summary \\n- The response must contain only valid JSON\\n- The values in the JSON \"timeframe_start\" and \"timeframe_end\" should always be a single valid date in the form [±Y]YYYY; negative values should be used for years before common era B.C.E. (e.g. `300 B.C.` should be represented as `-300`)\\n- if the provided information is not sufficient to determine historical period and/or location, the following values can be set to `None`: `period`, `timeframe_start`, `timeframe_end`, `location`, `location_qid`\\n\\nReturn your response and the underlying reasoning as a JSON object with the following structure:\\n```json\\n{\\n    \"period\": \"The historical period in which the play could have taken place\",\\n    \"period_reasoning\": \"The reasoning the model used to identify the historical period\",\\n    \"timeframe_start\": \"The start value of the historical period, formatted as [±Y]YYYY\",\\n    \"timeframe_end\": \"The end value of the historical period, formatted as [±Y]YYYY\",\\n    \"location\": \"The geographic location where the action of the play takes place\",\\n    \"location_reasoning\": \"The reasoning the model used to identify the geographic location\",\\n    \"location_qid\": \"The Wikidata QID of the identified location\"\\n}\\n```'),\n",
       " LLMrequest(prompt_id='prompt-summary.txt', document_id='bpt6k9807756q', prompt_path=PosixPath('../data/prompts/pregenerated/bpt6k9807756q/bpt6k9807756q_prompt-summary.txt'), prompt='Look at the following JSON object describing a theatre play in French (XVII century); the `metadata` property contains basic information about the play (author, title, publication date), while the `context` property contains information about the people and places that are most frequently mentioned in the play (such as label, mention frequency, and salient sentences where it appears).\\n\\nINPUT:\\n```json\\n{\\n  \"metadata\": {\\n    \"author\": \"Genest, Charles-Claude\",\\n    \"title\": \"Zelonide, princesse de Sparte . Tragedie\",\\n    \"publication_date\": \"1682\",\\n    \"document_id\": \"bpt6k9807756q\"\\n  },\\n  \"context\": {\\n    \"people\": {\\n      \"top_1_person\": {\\n        \"entity\": {\\n          \"label\": \"Pyrrhus\",\\n          \"frequency\": 52\\n        },\\n        \"related_sentences\": [\\n          \"Mais cette jeune ardeur qui vous porte aux combats, Seigneur, aurait besoin d\\'armes et de Soldats Malgré ces hauts désirs notre Ville déserte Sans pouvoir se défendre à Pyrrhus est ouverte.\",\\n          \"Il va chercher Pyrrhus, en implorer l\\'appui, J\\'y consens, je le porte à traiter avec lui, Il réussit.\",\\n          \"Aux Armes de Pyrrhus sans défense livrée, Sa honte est infaillible, ou sa perte assurée.\",\\n          \"Quand Pyrrhus nous ferait succomber, Tout l\\'État avec nous n\\'est pas prêt à tomber.\",\\n          \"si le fier Pyrrhus ose nous outrager, Ne délibérons point, et courons nous venger;\"\\n        ]\\n      },\\n      \"top_5_persons\": [\\n        \"Pyrrhus\",\\n        \"Pyrrhus\",\\n        \"Pyrrhus\",\\n        \"Phillus\",\\n        \"Spartiates\"\\n      ]\\n    },\\n    \"places\": {\\n      \"top_1_place\": {\\n        \"entity\": {\\n          \"label\": \"Sparte\",\\n          \"frequency\": 52\\n        },\\n        \"related_sentences\": [\\n          \"D\\'autres ont prétendu disputer à Zélonide le titre de parfaite Héroïne Outre que la perfection absolue n\\'est pas toujours nécessaire aux Héros de la Tragédie, j\\'ai à répondre encore qu\\'on ne sait pas bien toutes les circonstances de la rupture de Zélonide avec Cléonime, et de son engagement avec Acorate mais que toutes les langes qu\\'on lui donne à Sparte, et les aclamations que font pour elle tant de Sages Vieillards, montrent assez qu\\'ils la regardaient comme une Princesse Héroïque:\",\\n          \"Mais ce qui était inconnu à Sparte, et en quoi vous l\\'emportez sans doute sur Elles, c\\'est d\\'avoir toute la grandeur et toute l\\'élévation de leurs sentiments, sans rien perdre de cette charmante douceur, et de cette délicate bienséance qui sont si propres à nêtre Sexe, et qui sont le dernier trait, et l\\'accomplissement des Grâces et des Vertus.\",\\n          \"Que Sparte toujours libre, et toujours souveraine, Pouponhonreloi ne tut pon raccepter, Et pour son Ennemi ne peut le redouter. \\\\nLISIMACUS\\\\n Vous quitterez bien tôt cet orguëil téméraire, Quand vous verrez sur vous éclater la colère D\\'un Roi que sa clémence a voulu retenir, Et tel qu\\'un Dieu vengeur forcé de vous punir. \\\\nACORATE\\\\n \",\\n          \"Mon Père et nos Guerriers qu\\'à luivis la victoire, Reviendront venger Sparte, et rétablir sa gloire, Ou se feront enfin un Thrône et des Remparts, Par Part où s\\'étendra la pointe de leurs dards. \\\\nPHILUS\\\\n Que nos Enfants il eners, nos illustres Spartaines Évitent promtement et la mort et les chaînes.\",\\n          \"C\\'est pour la proposer que vient Lisimacus Il tient le premier rang à la Cour de Pirrhus Songez en était parlant au pouvoir de son maître, Songez qu\\'un Camp nombreux dans nos champs va paraître, Que Sparte aux Ennemis s\\'ouvre de toutes parts, Vuide des Habitants qui sont ses seuls Remparts.\"\\n        ]\\n      },\\n      \"top_5_places\": [\\n        \"Sparte\",\\n        \"Grèce\",\\n        \"France\",\\n        \"Paris\",\\n        \"Rome\"\\n      ]\\n    }\\n  }\\n}\\n```\\n\\nYour role is to predict the location and historical period in which the action of the play is set. \\n\\nKEY RULES:\\n- Predict the timespan and not the precise and exact date of the period where the play could have taken place\\n- Do not write an introduction or summary \\n- The response must contain only valid JSON\\n- The values in the JSON \"timeframe_start\" and \"timeframe_end\" should always be a single valid date in the form [±Y]YYYY; negative values should be used for years before common era B.C.E. (e.g. `300 B.C.` should be represented as `-300`)\\n- if the provided information is not sufficient to determine historical period and/or location, the following values can be set to `None`: `period`, `timeframe_start`, `timeframe_end`, `location`, `location_qid`\\n\\nReturn your response and the underlying reasoning as a JSON object with the following structure:\\n```json\\n{\\n    \"period\": \"The historical period in which the play could have taken place\",\\n    \"period_reasoning\": \"The reasoning the model used to identify the historical period\",\\n    \"timeframe_start\": \"The start value of the historical period, formatted as [±Y]YYYY\",\\n    \"timeframe_end\": \"The end value of the historical period, formatted as [±Y]YYYY\",\\n    \"location\": \"The geographic location where the action of the play takes place\",\\n    \"location_reasoning\": \"The reasoning the model used to identify the geographic location\",\\n    \"location_qid\": \"The Wikidata QID of the identified location\"\\n}\\n```'),\n",
       " LLMrequest(prompt_id='prompt-metadata.txt', document_id='bpt6k9807756q', prompt_path=PosixPath('../data/prompts/pregenerated/bpt6k9807756q/bpt6k9807756q_prompt-metadata.txt'), prompt='Look at the following JSON object describing a theatre play in French (XVII century); the `metadata` property contains basic information about the play (author, title, publication date).\\n\\nINPUT:\\n```json\\n{\\n  \"metadata\": {\\n    \"author\": \"Genest, Charles-Claude\",\\n    \"title\": \"Zelonide, princesse de Sparte . Tragedie\",\\n    \"publication_date\": \"1682\",\\n    \"document_id\": \"bpt6k9807756q\"\\n  }\\n}\\n```\\n\\nYour role is to predict the location and historical period in which the action of the play is set. \\n\\nKEY RULES:\\n- Predict the timespan and not the precise and exact date of the period where the play could have taken place\\n- Do not write an introduction or summary \\n- The response must contain only valid JSON\\n- The values in the JSON \"timeframe_start\" and \"timeframe_end\" should always be a single valid date in the form [±Y]YYYY; negative values should be used for years before common era B.C.E. (e.g. `300 B.C.` should be represented as `-300`)\\n- if the provided information is not sufficient to determine historical period and/or location, the following values can be set to `None`: `period`, `timeframe_start`, `timeframe_end`, `location`, `location_qid`\\n\\nReturn your response and the underlying reasoning as a JSON object with the following structure:\\n```json\\n{\\n    \"period\": \"The historical period in which the play could have taken place\",\\n    \"period_reasoning\": \"The reasoning the model used to identify the historical period\",\\n    \"timeframe_start\": \"The start value of the historical period, formatted as [±Y]YYYY\",\\n    \"timeframe_end\": \"The end value of the historical period, formatted as [±Y]YYYY\",\\n    \"location\": \"The geographic location where the action of the play takes place\",\\n    \"location_reasoning\": \"The reasoning the model used to identify the geographic location\",\\n    \"location_qid\": \"The Wikidata QID of the identified location\"\\n}\\n```'),\n",
       " LLMrequest(prompt_id='prompt-excerpt.txt', document_id='bpt6k9807756q', prompt_path=PosixPath('../data/prompts/pregenerated/bpt6k9807756q/bpt6k9807756q_prompt-excerpt.txt'), prompt='Look at the following JSON object describing a theatre play in French (XVII century); the `metadata` property contains basic information about the play (author, title, publication date), while the `excerpt` property contains an excerpt of 400 words sampled from around the middle of the document.\\n\\nINPUT:\\n```json\\n{\\n  \"metadata\": {\\n    \"author\": \"Genest, Charles-Claude\",\\n    \"title\": \"Zelonide, princesse de Sparte . Tragedie\",\\n    \"publication_date\": \"1682\",\\n    \"document_id\": \"bpt6k9807756q\"\\n  },\\n  \"excerpt\": \"mmes animées, A de plus beaux desseins Sparte nous a formées. Loin de vous retenir par des charmes trompeurs, Sans cesse aux grands exploits nous enflammons vos cœurs. Nous voulons que l\\'amour les embrase et les guide Pour prendre vers la gloire un essor plus rapide. Quelle outrageuse erreur vous fait donc présumer Qu\\'ici nous vous nuirons, loin de vous animer? Aider à soutenir un Thrône qui chanc\"\\n}\\n```\\n\\nYour role is to predict the location and historical period in which the action of the play is set. \\n\\nKEY RULES:\\n- Predict the timespan and not the precise and exact date of the period where the play could have taken place\\n- Do not write an introduction or summary \\n- The response must contain only valid JSON\\n- The values in the JSON \"timeframe_start\" and \"timeframe_end\" should always be a single valid date in the form [±Y]YYYY; negative values should be used for years before common era B.C.E. (e.g. `300 B.C.` should be represented as `-300`)\\n- if the provided information is not sufficient to determine historical period and/or location, the following values can be set to `None`: `period`, `timeframe_start`, `timeframe_end`, `location`, `location_qid`\\n\\nReturn your response and the underlying reasoning as a JSON object with the following structure:\\n```json\\n{\\n    \"period\": \"The historical period in which the play could have taken place\",\\n    \"period_reasoning\": \"The reasoning the model used to identify the historical period\",\\n    \"timeframe_start\": \"The start value of the historical period, formatted as [±Y]YYYY\",\\n    \"timeframe_end\": \"The end value of the historical period, formatted as [±Y]YYYY\",\\n    \"location\": \"The geographic location where the action of the play takes place\",\\n    \"location_reasoning\": \"The reasoning the model used to identify the geographic location\",\\n    \"location_qid\": \"The Wikidata QID of the identified location\"\\n}\\n```')]"
      ]
     },
     "execution_count": 11,
     "metadata": {},
     "output_type": "execute_result"
    }
   ],
   "source": [
    "llm_requests"
   ]
  },
  {
   "cell_type": "code",
   "execution_count": 23,
   "metadata": {},
   "outputs": [
    {
     "name": "stdout",
     "output_type": "stream",
     "text": [
      "Skipping request for document bpt6k10901623[prompt-excerpt.txt] using model deepseek:deepseek-reasoner as it already exists\n",
      "Skipping request for document bpt6k10901623[prompt-metadata.txt] using model deepseek:deepseek-reasoner as it already exists\n",
      "Skipping request for document bpt6k10901623[prompt-summary.txt] using model deepseek:deepseek-reasoner as it already exists\n",
      "Skipping request for document bpt6k1090242p[prompt-excerpt.txt] using model deepseek:deepseek-reasoner as it already exists\n",
      "Skipping request for document bpt6k1090242p[prompt-metadata.txt] using model deepseek:deepseek-reasoner as it already exists\n",
      "Skipping request for document bpt6k1090242p[prompt-summary.txt] using model deepseek:deepseek-reasoner as it already exists\n",
      "Skipping request for document bpt6k852913n[prompt-summary.txt] using model deepseek:deepseek-reasoner as it already exists\n",
      "Skipping request for document bpt6k852913n[prompt-metadata.txt] using model deepseek:deepseek-reasoner as it already exists\n",
      "Skipping request for document bpt6k852913n[prompt-excerpt.txt] using model deepseek:deepseek-reasoner as it already exists\n",
      "Skipping request for document bpt6k5772699f[prompt-summary.txt] using model deepseek:deepseek-reasoner as it already exists\n",
      "Skipping request for document bpt6k5772699f[prompt-metadata.txt] using model deepseek:deepseek-reasoner as it already exists\n",
      "Skipping request for document bpt6k5772699f[prompt-excerpt.txt] using model deepseek:deepseek-reasoner as it already exists\n",
      "Skipping request for document bpt6k9807756q[prompt-summary.txt] using model deepseek:deepseek-reasoner as it already exists\n",
      "Skipping request for document bpt6k9807756q[prompt-metadata.txt] using model deepseek:deepseek-reasoner as it already exists\n",
      "Skipping request for document bpt6k9807756q[prompt-excerpt.txt] using model deepseek:deepseek-reasoner as it already exists\n",
      "Skipping request for document bpt6k10901623[prompt-excerpt.txt] using model anthropic:claude-3-7-sonnet-20250219 as it already exists\n",
      "Skipping request for document bpt6k10901623[prompt-metadata.txt] using model anthropic:claude-3-7-sonnet-20250219 as it already exists\n",
      "Skipping request for document bpt6k10901623[prompt-summary.txt] using model anthropic:claude-3-7-sonnet-20250219 as it already exists\n",
      "Skipping request for document bpt6k1090242p[prompt-excerpt.txt] using model anthropic:claude-3-7-sonnet-20250219 as it already exists\n",
      "Skipping request for document bpt6k1090242p[prompt-metadata.txt] using model anthropic:claude-3-7-sonnet-20250219 as it already exists\n",
      "Skipping request for document bpt6k1090242p[prompt-summary.txt] using model anthropic:claude-3-7-sonnet-20250219 as it already exists\n",
      "Skipping request for document bpt6k852913n[prompt-summary.txt] using model anthropic:claude-3-7-sonnet-20250219 as it already exists\n",
      "Skipping request for document bpt6k852913n[prompt-metadata.txt] using model anthropic:claude-3-7-sonnet-20250219 as it already exists\n",
      "Skipping request for document bpt6k852913n[prompt-excerpt.txt] using model anthropic:claude-3-7-sonnet-20250219 as it already exists\n",
      "Skipping request for document bpt6k5772699f[prompt-summary.txt] using model anthropic:claude-3-7-sonnet-20250219 as it already exists\n",
      "Skipping request for document bpt6k5772699f[prompt-metadata.txt] using model anthropic:claude-3-7-sonnet-20250219 as it already exists\n",
      "Skipping request for document bpt6k5772699f[prompt-excerpt.txt] using model anthropic:claude-3-7-sonnet-20250219 as it already exists\n",
      "Skipping request for document bpt6k9807756q[prompt-summary.txt] using model anthropic:claude-3-7-sonnet-20250219 as it already exists\n",
      "Skipping request for document bpt6k9807756q[prompt-metadata.txt] using model anthropic:claude-3-7-sonnet-20250219 as it already exists\n",
      "Skipping request for document bpt6k9807756q[prompt-excerpt.txt] using model anthropic:claude-3-7-sonnet-20250219 as it already exists\n",
      "Skipping request for document bpt6k10901623[prompt-excerpt.txt] using model ollama:gemma2:9b as it already exists\n",
      "Skipping request for document bpt6k10901623[prompt-metadata.txt] using model ollama:gemma2:9b as it already exists\n",
      "Skipping request for document bpt6k10901623[prompt-summary.txt] using model ollama:gemma2:9b as it already exists\n",
      "Skipping request for document bpt6k1090242p[prompt-excerpt.txt] using model ollama:gemma2:9b as it already exists\n",
      "Skipping request for document bpt6k1090242p[prompt-metadata.txt] using model ollama:gemma2:9b as it already exists\n",
      "Skipping request for document bpt6k1090242p[prompt-summary.txt] using model ollama:gemma2:9b as it already exists\n",
      "Skipping request for document bpt6k852913n[prompt-summary.txt] using model ollama:gemma2:9b as it already exists\n",
      "Skipping request for document bpt6k852913n[prompt-metadata.txt] using model ollama:gemma2:9b as it already exists\n",
      "Skipping request for document bpt6k852913n[prompt-excerpt.txt] using model ollama:gemma2:9b as it already exists\n",
      "Skipping request for document bpt6k5772699f[prompt-summary.txt] using model ollama:gemma2:9b as it already exists\n",
      "Skipping request for document bpt6k5772699f[prompt-metadata.txt] using model ollama:gemma2:9b as it already exists\n",
      "Skipping request for document bpt6k5772699f[prompt-excerpt.txt] using model ollama:gemma2:9b as it already exists\n",
      "Skipping request for document bpt6k9807756q[prompt-summary.txt] using model ollama:gemma2:9b as it already exists\n",
      "Skipping request for document bpt6k9807756q[prompt-metadata.txt] using model ollama:gemma2:9b as it already exists\n",
      "Skipping request for document bpt6k9807756q[prompt-excerpt.txt] using model ollama:gemma2:9b as it already exists\n",
      "Processing prompt prompt-excerpt.txt for document bpt6k10901623 using model ollama:phi4:latest\n",
      "Processing prompt prompt-metadata.txt for document bpt6k10901623 using model ollama:phi4:latest\n",
      "Processing prompt prompt-summary.txt for document bpt6k10901623 using model ollama:phi4:latest\n",
      "Processing prompt prompt-excerpt.txt for document bpt6k1090242p using model ollama:phi4:latest\n",
      "Processing prompt prompt-metadata.txt for document bpt6k1090242p using model ollama:phi4:latest\n",
      "Processing prompt prompt-summary.txt for document bpt6k1090242p using model ollama:phi4:latest\n",
      "Processing prompt prompt-summary.txt for document bpt6k852913n using model ollama:phi4:latest\n",
      "Processing prompt prompt-metadata.txt for document bpt6k852913n using model ollama:phi4:latest\n",
      "Processing prompt prompt-excerpt.txt for document bpt6k852913n using model ollama:phi4:latest\n",
      "Processing prompt prompt-summary.txt for document bpt6k5772699f using model ollama:phi4:latest\n",
      "Processing prompt prompt-metadata.txt for document bpt6k5772699f using model ollama:phi4:latest\n",
      "Processing prompt prompt-excerpt.txt for document bpt6k5772699f using model ollama:phi4:latest\n",
      "Processing prompt prompt-summary.txt for document bpt6k9807756q using model ollama:phi4:latest\n",
      "Processing prompt prompt-metadata.txt for document bpt6k9807756q using model ollama:phi4:latest\n",
      "Processing prompt prompt-excerpt.txt for document bpt6k9807756q using model ollama:phi4:latest\n"
     ]
    }
   ],
   "source": [
    "llm_responses = []\n",
    "llm_responses_path = Path('../data/llm_responses')\n",
    "\n",
    "models = [\n",
    "    #\"ollama:deepseek-r1:8b\",\n",
    "    #\"ollama:llama:3.3:latest\",\n",
    "    #\"openai:gpt-4o\",\n",
    "    \"deepseek:deepseek-reasoner\",\n",
    "    \"anthropic:claude-3-7-sonnet-20250219\",\n",
    "    \"ollama:gemma2:9b\",\n",
    "    \"ollama:phi4:latest\"    \n",
    "]\n",
    "\n",
    "for model in models:\n",
    "    llm_responses += query_llm(client, model, llm_requests, llm_responses_path)"
   ]
  },
  {
   "cell_type": "code",
   "execution_count": null,
   "metadata": {},
   "outputs": [],
   "source": []
  }
 ],
 "metadata": {
  "kernelspec": {
   "display_name": "textent",
   "language": "python",
   "name": "python3"
  },
  "language_info": {
   "codemirror_mode": {
    "name": "ipython",
    "version": 3
   },
   "file_extension": ".py",
   "mimetype": "text/x-python",
   "name": "python",
   "nbconvert_exporter": "python",
   "pygments_lexer": "ipython3",
   "version": "3.11.9"
  }
 },
 "nbformat": 4,
 "nbformat_minor": 2
}
